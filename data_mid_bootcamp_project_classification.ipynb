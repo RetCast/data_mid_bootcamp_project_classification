{
 "cells": [
  {
   "cell_type": "markdown",
   "id": "f9aa1c48-f0ed-486b-be71-1a1333ea428a",
   "metadata": {},
   "source": [
    "### Data Mid-bootcamp project classification"
   ]
  },
  {
   "cell_type": "code",
   "execution_count": 1,
   "id": "c60b8afd-476c-4c2c-83a1-d559c9fc72f5",
   "metadata": {},
   "outputs": [],
   "source": [
    "import pymysql\n",
    "import pandas as pd\n",
    "import numpy as np\n",
    "import matplotlib.pyplot as plt\n",
    "import seaborn as sns\n",
    "\n",
    "from sklearn import preprocessing\n",
    "from category_encoders import OrdinalEncoder \n",
    "\n",
    "from statsmodels.stats.outliers_influence import variance_inflation_factor\n",
    "from statsmodels.tools.tools import add_constant\n",
    "\n",
    "from sklearn.model_selection import train_test_split\n",
    "from sklearn.linear_model import LogisticRegression\n",
    "from sklearn.metrics import confusion_matrix, ConfusionMatrixDisplay, accuracy_score, precision_score, recall_score\n",
    "from sklearn.metrics import classification_report, f1_score, cohen_kappa_score, roc_curve, roc_auc_score\n",
    "\n",
    "from imblearn.under_sampling import RandomUnderSampler\n",
    "from imblearn.over_sampling import RandomOverSampler \n",
    "from imblearn.over_sampling import SMOTE"
   ]
  },
  {
   "cell_type": "markdown",
   "id": "e4ad5f45-d3d6-40a6-b02e-506ff634b727",
   "metadata": {
    "jp-MarkdownHeadingCollapsed": true,
    "tags": []
   },
   "source": [
    "### 0. Project details"
   ]
  },
  {
   "cell_type": "markdown",
   "id": "5bb3ea70-b10a-46cd-a099-09199b2649df",
   "metadata": {},
   "source": [
    "***Goal: build a model that will provide insight into why some bank customers accept credit card offers***\n",
    "\n",
    "**Definitions:**\n",
    "- Customer Number: A sequential number assigned to the customers (this column is hidden and excluded – this unique identifier will not be used directly).\n",
    "- Offer Accepted (**target variable**): Did the customer accept (Yes) or reject (No) the offer. Reward: The type of reward program offered for the card.\n",
    "- Mailer Type: Letter or postcard.\n",
    "- Income Level: Low, Medium or High.\n",
    "- #Bank Accounts Open: How many non-credit-card accounts are held by the customer.\n",
    "- Overdraft Protection: Does the customer have overdraft protection on their checking account(s) (Yes or No).\n",
    "- Credit Rating: Low, Medium or High.\n",
    "- #Credit Cards Held: The number of credit cards held at the bank.\n",
    "- #Homes Owned: The number of homes owned by the customer.\n",
    "- Household Size: Number of individuals in the family.\n",
    "- Own Your Home: Does the customer own their home? (Yes or No).\n",
    "- Average Balance: Average account balance (across all accounts over time). Q1, Q2, Q3 and Q4\n",
    "- Balance: Average balance for each quarter in the last year"
   ]
  },
  {
   "cell_type": "markdown",
   "id": "f0020030-aeec-43a0-a64e-68feb55e6dbd",
   "metadata": {
    "jp-MarkdownHeadingCollapsed": true,
    "tags": []
   },
   "source": [
    "### 1. Getting data\n",
    "- Read the `.csv` file."
   ]
  },
  {
   "cell_type": "code",
   "execution_count": 2,
   "id": "e5f02a3f-dd7f-421a-9e77-1289334eb588",
   "metadata": {},
   "outputs": [
    {
     "data": {
      "text/html": [
       "<div>\n",
       "<style scoped>\n",
       "    .dataframe tbody tr th:only-of-type {\n",
       "        vertical-align: middle;\n",
       "    }\n",
       "\n",
       "    .dataframe tbody tr th {\n",
       "        vertical-align: top;\n",
       "    }\n",
       "\n",
       "    .dataframe thead th {\n",
       "        text-align: right;\n",
       "    }\n",
       "</style>\n",
       "<table border=\"1\" class=\"dataframe\">\n",
       "  <thead>\n",
       "    <tr style=\"text-align: right;\">\n",
       "      <th></th>\n",
       "      <th>Customer Number</th>\n",
       "      <th>Offer Accepted</th>\n",
       "      <th>Reward</th>\n",
       "      <th>Mailer Type</th>\n",
       "      <th>Income Level</th>\n",
       "      <th># Bank Accounts Open</th>\n",
       "      <th>Overdraft Protection</th>\n",
       "      <th>Credit Rating</th>\n",
       "      <th># Credit Cards Held</th>\n",
       "      <th># Homes Owned</th>\n",
       "      <th>Household Size</th>\n",
       "      <th>Own Your Home</th>\n",
       "      <th>Average Balance</th>\n",
       "      <th>Q1 Balance</th>\n",
       "      <th>Q2 Balance</th>\n",
       "      <th>Q3 Balance</th>\n",
       "      <th>Q4 Balance</th>\n",
       "    </tr>\n",
       "  </thead>\n",
       "  <tbody>\n",
       "    <tr>\n",
       "      <th>0</th>\n",
       "      <td>1</td>\n",
       "      <td>No</td>\n",
       "      <td>Air Miles</td>\n",
       "      <td>Letter</td>\n",
       "      <td>High</td>\n",
       "      <td>1</td>\n",
       "      <td>No</td>\n",
       "      <td>High</td>\n",
       "      <td>2</td>\n",
       "      <td>1</td>\n",
       "      <td>4</td>\n",
       "      <td>No</td>\n",
       "      <td>1160.75</td>\n",
       "      <td>1669.0</td>\n",
       "      <td>877.0</td>\n",
       "      <td>1095.0</td>\n",
       "      <td>1002.0</td>\n",
       "    </tr>\n",
       "    <tr>\n",
       "      <th>1</th>\n",
       "      <td>2</td>\n",
       "      <td>No</td>\n",
       "      <td>Air Miles</td>\n",
       "      <td>Letter</td>\n",
       "      <td>Medium</td>\n",
       "      <td>1</td>\n",
       "      <td>No</td>\n",
       "      <td>Medium</td>\n",
       "      <td>2</td>\n",
       "      <td>2</td>\n",
       "      <td>5</td>\n",
       "      <td>Yes</td>\n",
       "      <td>147.25</td>\n",
       "      <td>39.0</td>\n",
       "      <td>106.0</td>\n",
       "      <td>78.0</td>\n",
       "      <td>366.0</td>\n",
       "    </tr>\n",
       "    <tr>\n",
       "      <th>2</th>\n",
       "      <td>3</td>\n",
       "      <td>No</td>\n",
       "      <td>Air Miles</td>\n",
       "      <td>Postcard</td>\n",
       "      <td>High</td>\n",
       "      <td>2</td>\n",
       "      <td>No</td>\n",
       "      <td>Medium</td>\n",
       "      <td>2</td>\n",
       "      <td>1</td>\n",
       "      <td>2</td>\n",
       "      <td>Yes</td>\n",
       "      <td>276.50</td>\n",
       "      <td>367.0</td>\n",
       "      <td>352.0</td>\n",
       "      <td>145.0</td>\n",
       "      <td>242.0</td>\n",
       "    </tr>\n",
       "    <tr>\n",
       "      <th>3</th>\n",
       "      <td>4</td>\n",
       "      <td>No</td>\n",
       "      <td>Air Miles</td>\n",
       "      <td>Letter</td>\n",
       "      <td>Medium</td>\n",
       "      <td>2</td>\n",
       "      <td>No</td>\n",
       "      <td>High</td>\n",
       "      <td>1</td>\n",
       "      <td>1</td>\n",
       "      <td>4</td>\n",
       "      <td>No</td>\n",
       "      <td>1219.00</td>\n",
       "      <td>1578.0</td>\n",
       "      <td>1760.0</td>\n",
       "      <td>1119.0</td>\n",
       "      <td>419.0</td>\n",
       "    </tr>\n",
       "    <tr>\n",
       "      <th>4</th>\n",
       "      <td>5</td>\n",
       "      <td>No</td>\n",
       "      <td>Air Miles</td>\n",
       "      <td>Letter</td>\n",
       "      <td>Medium</td>\n",
       "      <td>1</td>\n",
       "      <td>No</td>\n",
       "      <td>Medium</td>\n",
       "      <td>2</td>\n",
       "      <td>1</td>\n",
       "      <td>6</td>\n",
       "      <td>Yes</td>\n",
       "      <td>1211.00</td>\n",
       "      <td>2140.0</td>\n",
       "      <td>1357.0</td>\n",
       "      <td>982.0</td>\n",
       "      <td>365.0</td>\n",
       "    </tr>\n",
       "  </tbody>\n",
       "</table>\n",
       "</div>"
      ],
      "text/plain": [
       "   Customer Number Offer Accepted     Reward Mailer Type Income Level  \\\n",
       "0                1             No  Air Miles      Letter         High   \n",
       "1                2             No  Air Miles      Letter       Medium   \n",
       "2                3             No  Air Miles    Postcard         High   \n",
       "3                4             No  Air Miles      Letter       Medium   \n",
       "4                5             No  Air Miles      Letter       Medium   \n",
       "\n",
       "   # Bank Accounts Open Overdraft Protection Credit Rating  \\\n",
       "0                     1                   No          High   \n",
       "1                     1                   No        Medium   \n",
       "2                     2                   No        Medium   \n",
       "3                     2                   No          High   \n",
       "4                     1                   No        Medium   \n",
       "\n",
       "   # Credit Cards Held  # Homes Owned  Household Size Own Your Home  \\\n",
       "0                    2              1               4            No   \n",
       "1                    2              2               5           Yes   \n",
       "2                    2              1               2           Yes   \n",
       "3                    1              1               4            No   \n",
       "4                    2              1               6           Yes   \n",
       "\n",
       "   Average Balance  Q1 Balance  Q2 Balance  Q3 Balance  Q4 Balance  \n",
       "0          1160.75      1669.0       877.0      1095.0      1002.0  \n",
       "1           147.25        39.0       106.0        78.0       366.0  \n",
       "2           276.50       367.0       352.0       145.0       242.0  \n",
       "3          1219.00      1578.0      1760.0      1119.0       419.0  \n",
       "4          1211.00      2140.0      1357.0       982.0       365.0  "
      ]
     },
     "execution_count": 2,
     "metadata": {},
     "output_type": "execute_result"
    }
   ],
   "source": [
    "data = pd.read_csv('data/creditcardmarketing_copy.csv')\n",
    "data.head()"
   ]
  },
  {
   "cell_type": "markdown",
   "id": "4201b792-69d5-4575-8541-171f09aad931",
   "metadata": {
    "tags": []
   },
   "source": [
    "### 2. Cleaning/Wrangling/EDA\n",
    "\n",
    "- Rename columns with the PEP 8 (snake case)\n",
    "- Check: info, shape, descriptive statistics, NaN, duplicated and blank values\n",
    "    "
   ]
  },
  {
   "cell_type": "code",
   "execution_count": 3,
   "id": "23971a73-7973-498f-9148-b406f7f6c966",
   "metadata": {},
   "outputs": [
    {
     "data": {
      "text/plain": [
       "Index(['customer_number', 'offer_accepted', 'reward', 'mailer_type',\n",
       "       'income_level', '#_bank_accounts_open', 'overdraft_protection',\n",
       "       'credit_rating', '#_credit_cards_held', '#_homes_owned',\n",
       "       'household_size', 'own_your_home', 'average_balance', 'q1_balance',\n",
       "       'q2_balance', 'q3_balance', 'q4_balance'],\n",
       "      dtype='object')"
      ]
     },
     "execution_count": 3,
     "metadata": {},
     "output_type": "execute_result"
    }
   ],
   "source": [
    "data.columns = data.columns.str.replace(' ', '_').str.lower()\n",
    "data.columns"
   ]
  },
  {
   "cell_type": "code",
   "execution_count": 4,
   "id": "162b2617-4214-4486-887f-59643cc1a48b",
   "metadata": {},
   "outputs": [
    {
     "name": "stdout",
     "output_type": "stream",
     "text": [
      "(18000, 17)\n",
      "------------\n"
     ]
    },
    {
     "data": {
      "text/plain": [
       "customer_number         0.000000\n",
       "offer_accepted          0.000000\n",
       "reward                  0.000000\n",
       "mailer_type             0.000000\n",
       "income_level            0.000000\n",
       "#_bank_accounts_open    0.000000\n",
       "overdraft_protection    0.000000\n",
       "credit_rating           0.000000\n",
       "#_credit_cards_held     0.000000\n",
       "#_homes_owned           0.000000\n",
       "household_size          0.000000\n",
       "own_your_home           0.000000\n",
       "average_balance         0.001333\n",
       "q1_balance              0.001333\n",
       "q2_balance              0.001333\n",
       "q3_balance              0.001333\n",
       "q4_balance              0.001333\n",
       "dtype: float64"
      ]
     },
     "execution_count": 4,
     "metadata": {},
     "output_type": "execute_result"
    }
   ],
   "source": [
    "print(data.shape)\n",
    "print('------------')\n",
    "data.isna().sum()/len(data)"
   ]
  },
  {
   "cell_type": "code",
   "execution_count": 5,
   "id": "02717b64-c7d5-4f0b-96da-bbf5928a647e",
   "metadata": {},
   "outputs": [],
   "source": [
    "# It is observed that there are 5 columns with 24 null values, which represents less than 0.5%"
   ]
  },
  {
   "cell_type": "code",
   "execution_count": 6,
   "id": "2283133b-78e1-4abf-827c-e003eb7aba17",
   "metadata": {},
   "outputs": [
    {
     "data": {
      "text/plain": [
       "(17976, 17)"
      ]
     },
     "execution_count": 6,
     "metadata": {},
     "output_type": "execute_result"
    }
   ],
   "source": [
    "data = data.dropna()\n",
    "data.shape"
   ]
  },
  {
   "cell_type": "code",
   "execution_count": 7,
   "id": "f69b092a-5c76-4276-ab14-301c403a1d2d",
   "metadata": {},
   "outputs": [],
   "source": [
    "# Nulls are removed because they are too few."
   ]
  },
  {
   "cell_type": "code",
   "execution_count": 8,
   "id": "6e7ed6bc-ea52-4e38-9841-f4410140b0e2",
   "metadata": {},
   "outputs": [
    {
     "data": {
      "text/plain": [
       "0"
      ]
     },
     "execution_count": 8,
     "metadata": {},
     "output_type": "execute_result"
    }
   ],
   "source": [
    "data.duplicated().sum()"
   ]
  },
  {
   "cell_type": "code",
   "execution_count": 9,
   "id": "be5a5889-93a4-4be3-929f-cbdbc13d94a0",
   "metadata": {},
   "outputs": [],
   "source": [
    "# There are no duplicated values."
   ]
  },
  {
   "cell_type": "code",
   "execution_count": 10,
   "id": "379da456-5c7e-4062-808a-fc953c887f3e",
   "metadata": {},
   "outputs": [
    {
     "name": "stdout",
     "output_type": "stream",
     "text": [
      "offer_accepted\n",
      "No     16955\n",
      "Yes     1021\n",
      "Name: offer_accepted, dtype: int64\n",
      "------\n",
      "reward\n",
      "Air Miles    6047\n",
      "Cash Back    5995\n",
      "Points       5934\n",
      "Name: reward, dtype: int64\n",
      "------\n",
      "mailer_type\n",
      "Postcard    9134\n",
      "Letter      8842\n",
      "Name: mailer_type, dtype: int64\n",
      "------\n",
      "income_level\n",
      "Medium    9002\n",
      "High      4519\n",
      "Low       4455\n",
      "Name: income_level, dtype: int64\n",
      "------\n",
      "#_bank_accounts_open\n",
      "1    13674\n",
      "2     4007\n",
      "3      295\n",
      "Name: #_bank_accounts_open, dtype: int64\n",
      "------\n",
      "overdraft_protection\n",
      "No     15300\n",
      "Yes     2676\n",
      "Name: overdraft_protection, dtype: int64\n",
      "------\n",
      "credit_rating\n",
      "High      6064\n",
      "Medium    5964\n",
      "Low       5948\n",
      "Name: credit_rating, dtype: int64\n",
      "------\n",
      "#_credit_cards_held\n",
      "2    7933\n",
      "1    6147\n",
      "3    3381\n",
      "4     515\n",
      "Name: #_credit_cards_held, dtype: int64\n",
      "------\n",
      "#_homes_owned\n",
      "1    14502\n",
      "2     3289\n",
      "3      185\n",
      "Name: #_homes_owned, dtype: int64\n",
      "------\n",
      "household_size\n",
      "3    5705\n",
      "4    5532\n",
      "5    2851\n",
      "2    2809\n",
      "1     539\n",
      "6     538\n",
      "8       1\n",
      "9       1\n",
      "Name: household_size, dtype: int64\n",
      "------\n",
      "own_your_home\n",
      "Yes    11636\n",
      "No      6340\n",
      "Name: own_your_home, dtype: int64\n",
      "------\n"
     ]
    }
   ],
   "source": [
    "#The count of values are calculated, except for those columns with many unique values.\n",
    "for x in data.columns:\n",
    "    if not x in ['customer_number','average_balance', 'q1_balance', 'q2_balance', 'q3_balance', 'q4_balance']:\n",
    "        print(x)\n",
    "        print(data[x].value_counts())\n",
    "        print('------')"
   ]
  },
  {
   "cell_type": "code",
   "execution_count": 11,
   "id": "669d2709-7eab-4e63-b8e0-aa4e760555ec",
   "metadata": {},
   "outputs": [],
   "source": [
    "# In some columns such as offer_accepted a data imbalance is observed that will be analyzed later."
   ]
  },
  {
   "cell_type": "code",
   "execution_count": 12,
   "id": "e0e7b4a0-94a7-4582-b7e7-1337cf734945",
   "metadata": {},
   "outputs": [
    {
     "data": {
      "text/html": [
       "<div>\n",
       "<style scoped>\n",
       "    .dataframe tbody tr th:only-of-type {\n",
       "        vertical-align: middle;\n",
       "    }\n",
       "\n",
       "    .dataframe tbody tr th {\n",
       "        vertical-align: top;\n",
       "    }\n",
       "\n",
       "    .dataframe thead th {\n",
       "        text-align: right;\n",
       "    }\n",
       "</style>\n",
       "<table border=\"1\" class=\"dataframe\">\n",
       "  <thead>\n",
       "    <tr style=\"text-align: right;\">\n",
       "      <th></th>\n",
       "      <th>count</th>\n",
       "      <th>mean</th>\n",
       "      <th>std</th>\n",
       "      <th>min</th>\n",
       "      <th>25%</th>\n",
       "      <th>50%</th>\n",
       "      <th>75%</th>\n",
       "      <th>max</th>\n",
       "    </tr>\n",
       "  </thead>\n",
       "  <tbody>\n",
       "    <tr>\n",
       "      <th>customer_number</th>\n",
       "      <td>17976.0</td>\n",
       "      <td>8999.727192</td>\n",
       "      <td>5196.958865</td>\n",
       "      <td>1.00</td>\n",
       "      <td>4498.75</td>\n",
       "      <td>9000.5</td>\n",
       "      <td>13501.25</td>\n",
       "      <td>18000.00</td>\n",
       "    </tr>\n",
       "    <tr>\n",
       "      <th>#_bank_accounts_open</th>\n",
       "      <td>17976.0</td>\n",
       "      <td>1.255730</td>\n",
       "      <td>0.472405</td>\n",
       "      <td>1.00</td>\n",
       "      <td>1.00</td>\n",
       "      <td>1.0</td>\n",
       "      <td>1.00</td>\n",
       "      <td>3.00</td>\n",
       "    </tr>\n",
       "    <tr>\n",
       "      <th>#_credit_cards_held</th>\n",
       "      <td>17976.0</td>\n",
       "      <td>1.903427</td>\n",
       "      <td>0.797086</td>\n",
       "      <td>1.00</td>\n",
       "      <td>1.00</td>\n",
       "      <td>2.0</td>\n",
       "      <td>2.00</td>\n",
       "      <td>4.00</td>\n",
       "    </tr>\n",
       "    <tr>\n",
       "      <th>#_homes_owned</th>\n",
       "      <td>17976.0</td>\n",
       "      <td>1.203549</td>\n",
       "      <td>0.427446</td>\n",
       "      <td>1.00</td>\n",
       "      <td>1.00</td>\n",
       "      <td>1.0</td>\n",
       "      <td>1.00</td>\n",
       "      <td>3.00</td>\n",
       "    </tr>\n",
       "    <tr>\n",
       "      <th>household_size</th>\n",
       "      <td>17976.0</td>\n",
       "      <td>3.499110</td>\n",
       "      <td>1.114476</td>\n",
       "      <td>1.00</td>\n",
       "      <td>3.00</td>\n",
       "      <td>3.0</td>\n",
       "      <td>4.00</td>\n",
       "      <td>9.00</td>\n",
       "    </tr>\n",
       "    <tr>\n",
       "      <th>average_balance</th>\n",
       "      <td>17976.0</td>\n",
       "      <td>940.515562</td>\n",
       "      <td>350.297837</td>\n",
       "      <td>48.25</td>\n",
       "      <td>787.50</td>\n",
       "      <td>1007.0</td>\n",
       "      <td>1153.25</td>\n",
       "      <td>3366.25</td>\n",
       "    </tr>\n",
       "    <tr>\n",
       "      <th>q1_balance</th>\n",
       "      <td>17976.0</td>\n",
       "      <td>910.450656</td>\n",
       "      <td>620.077060</td>\n",
       "      <td>0.00</td>\n",
       "      <td>392.75</td>\n",
       "      <td>772.0</td>\n",
       "      <td>1521.00</td>\n",
       "      <td>3450.00</td>\n",
       "    </tr>\n",
       "    <tr>\n",
       "      <th>q2_balance</th>\n",
       "      <td>17976.0</td>\n",
       "      <td>999.392190</td>\n",
       "      <td>457.402268</td>\n",
       "      <td>0.00</td>\n",
       "      <td>663.00</td>\n",
       "      <td>1032.0</td>\n",
       "      <td>1342.00</td>\n",
       "      <td>3421.00</td>\n",
       "    </tr>\n",
       "    <tr>\n",
       "      <th>q3_balance</th>\n",
       "      <td>17976.0</td>\n",
       "      <td>1042.033600</td>\n",
       "      <td>553.452599</td>\n",
       "      <td>0.00</td>\n",
       "      <td>633.00</td>\n",
       "      <td>945.5</td>\n",
       "      <td>1463.00</td>\n",
       "      <td>3823.00</td>\n",
       "    </tr>\n",
       "    <tr>\n",
       "      <th>q4_balance</th>\n",
       "      <td>17976.0</td>\n",
       "      <td>810.185803</td>\n",
       "      <td>559.001365</td>\n",
       "      <td>0.00</td>\n",
       "      <td>363.00</td>\n",
       "      <td>703.0</td>\n",
       "      <td>1212.00</td>\n",
       "      <td>4215.00</td>\n",
       "    </tr>\n",
       "  </tbody>\n",
       "</table>\n",
       "</div>"
      ],
      "text/plain": [
       "                        count         mean          std    min      25%  \\\n",
       "customer_number       17976.0  8999.727192  5196.958865   1.00  4498.75   \n",
       "#_bank_accounts_open  17976.0     1.255730     0.472405   1.00     1.00   \n",
       "#_credit_cards_held   17976.0     1.903427     0.797086   1.00     1.00   \n",
       "#_homes_owned         17976.0     1.203549     0.427446   1.00     1.00   \n",
       "household_size        17976.0     3.499110     1.114476   1.00     3.00   \n",
       "average_balance       17976.0   940.515562   350.297837  48.25   787.50   \n",
       "q1_balance            17976.0   910.450656   620.077060   0.00   392.75   \n",
       "q2_balance            17976.0   999.392190   457.402268   0.00   663.00   \n",
       "q3_balance            17976.0  1042.033600   553.452599   0.00   633.00   \n",
       "q4_balance            17976.0   810.185803   559.001365   0.00   363.00   \n",
       "\n",
       "                         50%       75%       max  \n",
       "customer_number       9000.5  13501.25  18000.00  \n",
       "#_bank_accounts_open     1.0      1.00      3.00  \n",
       "#_credit_cards_held      2.0      2.00      4.00  \n",
       "#_homes_owned            1.0      1.00      3.00  \n",
       "household_size           3.0      4.00      9.00  \n",
       "average_balance       1007.0   1153.25   3366.25  \n",
       "q1_balance             772.0   1521.00   3450.00  \n",
       "q2_balance            1032.0   1342.00   3421.00  \n",
       "q3_balance             945.5   1463.00   3823.00  \n",
       "q4_balance             703.0   1212.00   4215.00  "
      ]
     },
     "execution_count": 12,
     "metadata": {},
     "output_type": "execute_result"
    }
   ],
   "source": [
    "data.describe().T"
   ]
  },
  {
   "cell_type": "markdown",
   "id": "d3e32f3b-e489-4055-b007-26a922c5e044",
   "metadata": {},
   "source": [
    "- For the columns from average_balance hereinafter, the data is observed to be very far from the mean, according to its standard deviation.\n",
    "- Also, they have a bias to the left.\n",
    "- The average balance of all customers is 940. \n",
    "- As the year goes by, this average/mean increases, with the exception of the last quarter (q4) which decreases."
   ]
  },
  {
   "cell_type": "markdown",
   "id": "1c081c29-edf0-4d57-9573-cb89af5e60d0",
   "metadata": {
    "tags": []
   },
   "source": [
    "### 3. Processing Data"
   ]
  },
  {
   "cell_type": "markdown",
   "id": "7e81c50c-7468-4068-a55b-0314539560d4",
   "metadata": {
    "tags": []
   },
   "source": [
    "#### 3.1 Numerical columns and its plots."
   ]
  },
  {
   "cell_type": "markdown",
   "id": "e41e288d-64a5-4321-8b01-bb006f6be2ba",
   "metadata": {
    "tags": []
   },
   "source": [
    "##### - Plots"
   ]
  },
  {
   "cell_type": "code",
   "execution_count": 13,
   "id": "078cf0ea-7009-4e91-ba61-3a8c4379e497",
   "metadata": {},
   "outputs": [
    {
     "data": {
      "text/html": [
       "<div>\n",
       "<style scoped>\n",
       "    .dataframe tbody tr th:only-of-type {\n",
       "        vertical-align: middle;\n",
       "    }\n",
       "\n",
       "    .dataframe tbody tr th {\n",
       "        vertical-align: top;\n",
       "    }\n",
       "\n",
       "    .dataframe thead th {\n",
       "        text-align: right;\n",
       "    }\n",
       "</style>\n",
       "<table border=\"1\" class=\"dataframe\">\n",
       "  <thead>\n",
       "    <tr style=\"text-align: right;\">\n",
       "      <th></th>\n",
       "      <th>customer_number</th>\n",
       "      <th>#_bank_accounts_open</th>\n",
       "      <th>#_credit_cards_held</th>\n",
       "      <th>#_homes_owned</th>\n",
       "      <th>household_size</th>\n",
       "      <th>average_balance</th>\n",
       "      <th>q1_balance</th>\n",
       "      <th>q2_balance</th>\n",
       "      <th>q3_balance</th>\n",
       "      <th>q4_balance</th>\n",
       "    </tr>\n",
       "  </thead>\n",
       "  <tbody>\n",
       "    <tr>\n",
       "      <th>0</th>\n",
       "      <td>1</td>\n",
       "      <td>1</td>\n",
       "      <td>2</td>\n",
       "      <td>1</td>\n",
       "      <td>4</td>\n",
       "      <td>1160.75</td>\n",
       "      <td>1669.0</td>\n",
       "      <td>877.0</td>\n",
       "      <td>1095.0</td>\n",
       "      <td>1002.0</td>\n",
       "    </tr>\n",
       "    <tr>\n",
       "      <th>1</th>\n",
       "      <td>2</td>\n",
       "      <td>1</td>\n",
       "      <td>2</td>\n",
       "      <td>2</td>\n",
       "      <td>5</td>\n",
       "      <td>147.25</td>\n",
       "      <td>39.0</td>\n",
       "      <td>106.0</td>\n",
       "      <td>78.0</td>\n",
       "      <td>366.0</td>\n",
       "    </tr>\n",
       "    <tr>\n",
       "      <th>2</th>\n",
       "      <td>3</td>\n",
       "      <td>2</td>\n",
       "      <td>2</td>\n",
       "      <td>1</td>\n",
       "      <td>2</td>\n",
       "      <td>276.50</td>\n",
       "      <td>367.0</td>\n",
       "      <td>352.0</td>\n",
       "      <td>145.0</td>\n",
       "      <td>242.0</td>\n",
       "    </tr>\n",
       "    <tr>\n",
       "      <th>3</th>\n",
       "      <td>4</td>\n",
       "      <td>2</td>\n",
       "      <td>1</td>\n",
       "      <td>1</td>\n",
       "      <td>4</td>\n",
       "      <td>1219.00</td>\n",
       "      <td>1578.0</td>\n",
       "      <td>1760.0</td>\n",
       "      <td>1119.0</td>\n",
       "      <td>419.0</td>\n",
       "    </tr>\n",
       "    <tr>\n",
       "      <th>4</th>\n",
       "      <td>5</td>\n",
       "      <td>1</td>\n",
       "      <td>2</td>\n",
       "      <td>1</td>\n",
       "      <td>6</td>\n",
       "      <td>1211.00</td>\n",
       "      <td>2140.0</td>\n",
       "      <td>1357.0</td>\n",
       "      <td>982.0</td>\n",
       "      <td>365.0</td>\n",
       "    </tr>\n",
       "    <tr>\n",
       "      <th>...</th>\n",
       "      <td>...</td>\n",
       "      <td>...</td>\n",
       "      <td>...</td>\n",
       "      <td>...</td>\n",
       "      <td>...</td>\n",
       "      <td>...</td>\n",
       "      <td>...</td>\n",
       "      <td>...</td>\n",
       "      <td>...</td>\n",
       "      <td>...</td>\n",
       "    </tr>\n",
       "    <tr>\n",
       "      <th>17995</th>\n",
       "      <td>17996</td>\n",
       "      <td>1</td>\n",
       "      <td>1</td>\n",
       "      <td>1</td>\n",
       "      <td>5</td>\n",
       "      <td>167.50</td>\n",
       "      <td>136.0</td>\n",
       "      <td>65.0</td>\n",
       "      <td>71.0</td>\n",
       "      <td>398.0</td>\n",
       "    </tr>\n",
       "    <tr>\n",
       "      <th>17996</th>\n",
       "      <td>17997</td>\n",
       "      <td>1</td>\n",
       "      <td>3</td>\n",
       "      <td>1</td>\n",
       "      <td>3</td>\n",
       "      <td>850.50</td>\n",
       "      <td>984.0</td>\n",
       "      <td>940.0</td>\n",
       "      <td>943.0</td>\n",
       "      <td>535.0</td>\n",
       "    </tr>\n",
       "    <tr>\n",
       "      <th>17997</th>\n",
       "      <td>17998</td>\n",
       "      <td>1</td>\n",
       "      <td>2</td>\n",
       "      <td>1</td>\n",
       "      <td>4</td>\n",
       "      <td>1087.25</td>\n",
       "      <td>918.0</td>\n",
       "      <td>767.0</td>\n",
       "      <td>1170.0</td>\n",
       "      <td>1494.0</td>\n",
       "    </tr>\n",
       "    <tr>\n",
       "      <th>17998</th>\n",
       "      <td>17999</td>\n",
       "      <td>1</td>\n",
       "      <td>4</td>\n",
       "      <td>2</td>\n",
       "      <td>2</td>\n",
       "      <td>1022.25</td>\n",
       "      <td>626.0</td>\n",
       "      <td>983.0</td>\n",
       "      <td>865.0</td>\n",
       "      <td>1615.0</td>\n",
       "    </tr>\n",
       "    <tr>\n",
       "      <th>17999</th>\n",
       "      <td>18000</td>\n",
       "      <td>2</td>\n",
       "      <td>2</td>\n",
       "      <td>1</td>\n",
       "      <td>3</td>\n",
       "      <td>1056.00</td>\n",
       "      <td>265.0</td>\n",
       "      <td>1378.0</td>\n",
       "      <td>1978.0</td>\n",
       "      <td>603.0</td>\n",
       "    </tr>\n",
       "  </tbody>\n",
       "</table>\n",
       "<p>17976 rows × 10 columns</p>\n",
       "</div>"
      ],
      "text/plain": [
       "       customer_number  #_bank_accounts_open  #_credit_cards_held  \\\n",
       "0                    1                     1                    2   \n",
       "1                    2                     1                    2   \n",
       "2                    3                     2                    2   \n",
       "3                    4                     2                    1   \n",
       "4                    5                     1                    2   \n",
       "...                ...                   ...                  ...   \n",
       "17995            17996                     1                    1   \n",
       "17996            17997                     1                    3   \n",
       "17997            17998                     1                    2   \n",
       "17998            17999                     1                    4   \n",
       "17999            18000                     2                    2   \n",
       "\n",
       "       #_homes_owned  household_size  average_balance  q1_balance  q2_balance  \\\n",
       "0                  1               4          1160.75      1669.0       877.0   \n",
       "1                  2               5           147.25        39.0       106.0   \n",
       "2                  1               2           276.50       367.0       352.0   \n",
       "3                  1               4          1219.00      1578.0      1760.0   \n",
       "4                  1               6          1211.00      2140.0      1357.0   \n",
       "...              ...             ...              ...         ...         ...   \n",
       "17995              1               5           167.50       136.0        65.0   \n",
       "17996              1               3           850.50       984.0       940.0   \n",
       "17997              1               4          1087.25       918.0       767.0   \n",
       "17998              2               2          1022.25       626.0       983.0   \n",
       "17999              1               3          1056.00       265.0      1378.0   \n",
       "\n",
       "       q3_balance  q4_balance  \n",
       "0          1095.0      1002.0  \n",
       "1            78.0       366.0  \n",
       "2           145.0       242.0  \n",
       "3          1119.0       419.0  \n",
       "4           982.0       365.0  \n",
       "...           ...         ...  \n",
       "17995        71.0       398.0  \n",
       "17996       943.0       535.0  \n",
       "17997      1170.0      1494.0  \n",
       "17998       865.0      1615.0  \n",
       "17999      1978.0       603.0  \n",
       "\n",
       "[17976 rows x 10 columns]"
      ]
     },
     "execution_count": 13,
     "metadata": {},
     "output_type": "execute_result"
    }
   ],
   "source": [
    "num_df = data.select_dtypes('number')\n",
    "num_df"
   ]
  },
  {
   "cell_type": "code",
   "execution_count": 14,
   "id": "72829457-47aa-47cd-b649-de064d844c59",
   "metadata": {},
   "outputs": [
    {
     "data": {
      "image/png": "[encoded data removed]",
      "text/plain": [
       "<Figure size 1000x300 with 1 Axes>"
      ]
     },
     "metadata": {},
     "output_type": "display_data"
    },
    {
     "data": {
      "image/png": "[encoded data removed]",
      "text/plain": [
       "<Figure size 1000x300 with 1 Axes>"
      ]
     },
     "metadata": {},
     "output_type": "display_data"
    },
    {
     "data": {
      "image/png": "[encoded data removed]",
      "text/plain": [
       "<Figure size 1000x300 with 1 Axes>"
      ]
     },
     "metadata": {},
     "output_type": "display_data"
    },
    {
     "data": {
      "image/png": "[encoded data removed]",
      "text/plain": [
       "<Figure size 1000x300 with 1 Axes>"
      ]
     },
     "metadata": {},
     "output_type": "display_data"
    }
   ],
   "source": [
    "# A countplot is used for discrete variables\n",
    "\n",
    "for column in num_df.columns[0:5]:\n",
    "    if not column in ['customer_number']:\n",
    "        plt.figure(figsize=(10,3))\n",
    "        sns.countplot(data=data, x=num_df[column], hue=data['offer_accepted'])\n",
    "        plt.show()"
   ]
  },
  {
   "cell_type": "code",
   "execution_count": 15,
   "id": "0b355c84-e974-4a4c-8176-b7073a0136fb",
   "metadata": {},
   "outputs": [
    {
     "data": {
      "image/png": "[encoded data removed]",
      "text/plain": [
       "<Figure size 800x400 with 1 Axes>"
      ]
     },
     "metadata": {},
     "output_type": "display_data"
    },
    {
     "data": {
      "image/png": "[encoded data removed]",
      "text/plain": [
       "<Figure size 800x400 with 1 Axes>"
      ]
     },
     "metadata": {},
     "output_type": "display_data"
    },
    {
     "data": {
      "image/png": "[encoded data removed]",
      "text/plain": [
       "<Figure size 800x400 with 1 Axes>"
      ]
     },
     "metadata": {},
     "output_type": "display_data"
    },
    {
     "data": {
      "image/png": "[encoded data removed]",
      "text/plain": [
       "<Figure size 800x400 with 1 Axes>"
      ]
     },
     "metadata": {},
     "output_type": "display_data"
    },
    {
     "data": {
      "image/png": "[encoded data removed]",
      "text/plain": [
       "<Figure size 800x400 with 1 Axes>"
      ]
     },
     "metadata": {},
     "output_type": "display_data"
    }
   ],
   "source": [
    "for column in num_df.columns[5:10]:\n",
    "    plt.figure(figsize=(8,4))\n",
    "    sns.histplot(data=data, x=column, hue='offer_accepted', multiple='dodge')\n",
    "    plt.show()"
   ]
  },
  {
   "cell_type": "markdown",
   "id": "26a57b5a-5468-4f3a-8459-46eeb380e497",
   "metadata": {
    "tags": []
   },
   "source": [
    "##### - Checking multicollinearity"
   ]
  },
  {
   "cell_type": "code",
   "execution_count": 16,
   "id": "dbebe4da-0076-408c-889c-aec628c82aed",
   "metadata": {},
   "outputs": [
    {
     "data": {
      "text/plain": [
       "<Axes: >"
      ]
     },
     "execution_count": 16,
     "metadata": {},
     "output_type": "execute_result"
    },
    {
     "data": {
      "image/png": "[encoded data removed]",
      "text/plain": [
       "<Figure size 1000x1000 with 2 Axes>"
      ]
     },
     "metadata": {},
     "output_type": "display_data"
    }
   ],
   "source": [
    "corr = num_df.corr()\n",
    "mask = np.triu(np.ones_like(corr, dtype = bool))                                 \n",
    "cmap = sns.diverging_palette(2020, 10, as_cmap = True)                          \n",
    "plt.figure(figsize = (10, 10))                                                     \n",
    "sns.heatmap(corr, mask = mask, cmap = cmap, vmin = -1, vmax = 1, annot = True,\n",
    "            square = True, linewidths = 0.5, cbar_kws = {'shrink' : 0.75})"
   ]
  },
  {
   "cell_type": "code",
   "execution_count": 17,
   "id": "e6992bdb-c121-4f5f-b0a0-4f5a8a0a2f08",
   "metadata": {},
   "outputs": [],
   "source": [
    "# The column average_balance may be removed, as this is the average of the balances for each quarter"
   ]
  },
  {
   "cell_type": "raw",
   "id": "2afeaf8a-421e-421d-a348-7c9973d16fc2",
   "metadata": {},
   "source": [
    "VIF: Variance Inflation Factor"
   ]
  },
  {
   "cell_type": "code",
   "execution_count": 18,
   "id": "93a1f103-d8b7-4c47-81b5-d1e3b361850a",
   "metadata": {},
   "outputs": [],
   "source": [
    "considered_features = num_df.columns"
   ]
  },
  {
   "cell_type": "code",
   "execution_count": 19,
   "id": "37800a6a-9465-4a7e-9448-c953f07bb028",
   "metadata": {},
   "outputs": [],
   "source": [
    "# compute the vif for all given features\n",
    "def compute_vif(df,considered_features):\n",
    "    \n",
    "    X = df[considered_features]\n",
    "    # the calculation of variance inflation requires a constant\n",
    "    X['intercept'] = 1\n",
    "    \n",
    "    # create dataframe to store vif values\n",
    "    vif = pd.DataFrame()\n",
    "    vif[\"Variable\"] = X.columns\n",
    "    vif[\"VIF\"] = [variance_inflation_factor(X.values, i) for i in range(X.shape[1])]\n",
    "    vif = vif[vif['Variable']!='intercept']\n",
    "    return vif"
   ]
  },
  {
   "cell_type": "code",
   "execution_count": 20,
   "id": "c910b9cc-4c4b-49dc-940f-7193a1736e0a",
   "metadata": {},
   "outputs": [
    {
     "name": "stderr",
     "output_type": "stream",
     "text": [
      "C:\\Users\\Daniel Castañeda\\anaconda3\\lib\\site-packages\\statsmodels\\stats\\outliers_influence.py:195: RuntimeWarning: divide by zero encountered in double_scalars\n",
      "  vif = 1. / (1. - r_squared_i)\n"
     ]
    },
    {
     "data": {
      "text/html": [
       "<div>\n",
       "<style scoped>\n",
       "    .dataframe tbody tr th:only-of-type {\n",
       "        vertical-align: middle;\n",
       "    }\n",
       "\n",
       "    .dataframe tbody tr th {\n",
       "        vertical-align: top;\n",
       "    }\n",
       "\n",
       "    .dataframe thead th {\n",
       "        text-align: right;\n",
       "    }\n",
       "</style>\n",
       "<table border=\"1\" class=\"dataframe\">\n",
       "  <thead>\n",
       "    <tr style=\"text-align: right;\">\n",
       "      <th></th>\n",
       "      <th>Variable</th>\n",
       "      <th>VIF</th>\n",
       "    </tr>\n",
       "  </thead>\n",
       "  <tbody>\n",
       "    <tr>\n",
       "      <th>5</th>\n",
       "      <td>average_balance</td>\n",
       "      <td>inf</td>\n",
       "    </tr>\n",
       "    <tr>\n",
       "      <th>6</th>\n",
       "      <td>q1_balance</td>\n",
       "      <td>inf</td>\n",
       "    </tr>\n",
       "    <tr>\n",
       "      <th>7</th>\n",
       "      <td>q2_balance</td>\n",
       "      <td>inf</td>\n",
       "    </tr>\n",
       "    <tr>\n",
       "      <th>8</th>\n",
       "      <td>q3_balance</td>\n",
       "      <td>inf</td>\n",
       "    </tr>\n",
       "    <tr>\n",
       "      <th>9</th>\n",
       "      <td>q4_balance</td>\n",
       "      <td>inf</td>\n",
       "    </tr>\n",
       "    <tr>\n",
       "      <th>2</th>\n",
       "      <td>#_credit_cards_held</td>\n",
       "      <td>1.000728</td>\n",
       "    </tr>\n",
       "    <tr>\n",
       "      <th>3</th>\n",
       "      <td>#_homes_owned</td>\n",
       "      <td>1.000585</td>\n",
       "    </tr>\n",
       "    <tr>\n",
       "      <th>0</th>\n",
       "      <td>customer_number</td>\n",
       "      <td>1.000413</td>\n",
       "    </tr>\n",
       "    <tr>\n",
       "      <th>4</th>\n",
       "      <td>household_size</td>\n",
       "      <td>1.000331</td>\n",
       "    </tr>\n",
       "    <tr>\n",
       "      <th>1</th>\n",
       "      <td>#_bank_accounts_open</td>\n",
       "      <td>1.000213</td>\n",
       "    </tr>\n",
       "  </tbody>\n",
       "</table>\n",
       "</div>"
      ],
      "text/plain": [
       "               Variable       VIF\n",
       "5       average_balance       inf\n",
       "6            q1_balance       inf\n",
       "7            q2_balance       inf\n",
       "8            q3_balance       inf\n",
       "9            q4_balance       inf\n",
       "2   #_credit_cards_held  1.000728\n",
       "3         #_homes_owned  1.000585\n",
       "0       customer_number  1.000413\n",
       "4        household_size  1.000331\n",
       "1  #_bank_accounts_open  1.000213"
      ]
     },
     "execution_count": 20,
     "metadata": {},
     "output_type": "execute_result"
    }
   ],
   "source": [
    "# compute vif \n",
    "compute_vif(num_df,considered_features).sort_values('VIF', ascending=False)"
   ]
  },
  {
   "cell_type": "code",
   "execution_count": 21,
   "id": "a2029492-cc85-46e5-b5d6-9529bdee89c5",
   "metadata": {},
   "outputs": [],
   "source": [
    "num_df_2 = num_df.drop(['average_balance'], axis=1)"
   ]
  },
  {
   "cell_type": "code",
   "execution_count": 22,
   "id": "39f7e9bc-d8a4-46b9-b9cd-239c2f0d52ec",
   "metadata": {},
   "outputs": [],
   "source": [
    "considered_features = num_df_2.columns"
   ]
  },
  {
   "cell_type": "code",
   "execution_count": 23,
   "id": "21ddd721-20d1-4489-8eaf-a38610266113",
   "metadata": {},
   "outputs": [
    {
     "data": {
      "text/html": [
       "<div>\n",
       "<style scoped>\n",
       "    .dataframe tbody tr th:only-of-type {\n",
       "        vertical-align: middle;\n",
       "    }\n",
       "\n",
       "    .dataframe tbody tr th {\n",
       "        vertical-align: top;\n",
       "    }\n",
       "\n",
       "    .dataframe thead th {\n",
       "        text-align: right;\n",
       "    }\n",
       "</style>\n",
       "<table border=\"1\" class=\"dataframe\">\n",
       "  <thead>\n",
       "    <tr style=\"text-align: right;\">\n",
       "      <th></th>\n",
       "      <th>Variable</th>\n",
       "      <th>VIF</th>\n",
       "    </tr>\n",
       "  </thead>\n",
       "  <tbody>\n",
       "    <tr>\n",
       "      <th>7</th>\n",
       "      <td>q3_balance</td>\n",
       "      <td>2.028179</td>\n",
       "    </tr>\n",
       "    <tr>\n",
       "      <th>6</th>\n",
       "      <td>q2_balance</td>\n",
       "      <td>2.008013</td>\n",
       "    </tr>\n",
       "    <tr>\n",
       "      <th>5</th>\n",
       "      <td>q1_balance</td>\n",
       "      <td>1.599509</td>\n",
       "    </tr>\n",
       "    <tr>\n",
       "      <th>8</th>\n",
       "      <td>q4_balance</td>\n",
       "      <td>1.565934</td>\n",
       "    </tr>\n",
       "    <tr>\n",
       "      <th>2</th>\n",
       "      <td>#_credit_cards_held</td>\n",
       "      <td>1.000728</td>\n",
       "    </tr>\n",
       "    <tr>\n",
       "      <th>3</th>\n",
       "      <td>#_homes_owned</td>\n",
       "      <td>1.000585</td>\n",
       "    </tr>\n",
       "    <tr>\n",
       "      <th>0</th>\n",
       "      <td>customer_number</td>\n",
       "      <td>1.000413</td>\n",
       "    </tr>\n",
       "    <tr>\n",
       "      <th>4</th>\n",
       "      <td>household_size</td>\n",
       "      <td>1.000331</td>\n",
       "    </tr>\n",
       "    <tr>\n",
       "      <th>1</th>\n",
       "      <td>#_bank_accounts_open</td>\n",
       "      <td>1.000213</td>\n",
       "    </tr>\n",
       "  </tbody>\n",
       "</table>\n",
       "</div>"
      ],
      "text/plain": [
       "               Variable       VIF\n",
       "7            q3_balance  2.028179\n",
       "6            q2_balance  2.008013\n",
       "5            q1_balance  1.599509\n",
       "8            q4_balance  1.565934\n",
       "2   #_credit_cards_held  1.000728\n",
       "3         #_homes_owned  1.000585\n",
       "0       customer_number  1.000413\n",
       "4        household_size  1.000331\n",
       "1  #_bank_accounts_open  1.000213"
      ]
     },
     "execution_count": 23,
     "metadata": {},
     "output_type": "execute_result"
    }
   ],
   "source": [
    "compute_vif(num_df_2,considered_features).sort_values('VIF', ascending=False)"
   ]
  },
  {
   "cell_type": "markdown",
   "id": "ac7329ee-2e80-40cc-97dc-5708e740ed88",
   "metadata": {
    "tags": []
   },
   "source": [
    "##### - Checking outliers"
   ]
  },
  {
   "cell_type": "code",
   "execution_count": 24,
   "id": "bd62caa3-c6b4-4d71-8f1e-2ce375d235f2",
   "metadata": {},
   "outputs": [
    {
     "data": {
      "image/png": "[encoded data removed]",
      "text/plain": [
       "<Figure size 800x400 with 1 Axes>"
      ]
     },
     "metadata": {},
     "output_type": "display_data"
    },
    {
     "data": {
      "image/png": "[encoded data removed]",
      "text/plain": [
       "<Figure size 800x400 with 1 Axes>"
      ]
     },
     "metadata": {},
     "output_type": "display_data"
    },
    {
     "data": {
      "image/png": "[encoded data removed]",
      "text/plain": [
       "<Figure size 800x400 with 1 Axes>"
      ]
     },
     "metadata": {},
     "output_type": "display_data"
    },
    {
     "data": {
      "image/png": "[encoded data removed]",
      "text/plain": [
       "<Figure size 800x400 with 1 Axes>"
      ]
     },
     "metadata": {},
     "output_type": "display_data"
    },
    {
     "data": {
      "image/png": "[encoded data removed]",
      "text/plain": [
       "<Figure size 800x400 with 1 Axes>"
      ]
     },
     "metadata": {},
     "output_type": "display_data"
    }
   ],
   "source": [
    "for column in num_df.columns[5:10]:\n",
    "    plt.figure(figsize=(8,4))\n",
    "    sns.boxplot(data=data, x=column, y='offer_accepted')\n",
    "    plt.show()"
   ]
  },
  {
   "cell_type": "code",
   "execution_count": 25,
   "id": "7a3ec575-f815-4c7d-9517-382845f187a2",
   "metadata": {},
   "outputs": [
    {
     "name": "stdout",
     "output_type": "stream",
     "text": [
      "1441\n",
      "(17976,)\n"
     ]
    },
    {
     "data": {
      "text/plain": [
       "0.08016243880729862"
      ]
     },
     "execution_count": 25,
     "metadata": {},
     "output_type": "execute_result"
    }
   ],
   "source": [
    "# The interquartile range (IQR) is calculated to count how many outliers there are and possibly filter/remove them.\n",
    "\n",
    "q1=np.percentile(num_df['average_balance'], 25)   # percentile 25\n",
    "q3=np.percentile(num_df['average_balance'], 75)   # percentile 75\n",
    "iqr=q3-q1 \n",
    "\n",
    "upper_limit = q3 + 1.5*iqr\n",
    "lower_limit = q1 - 1.5*iqr\n",
    "\n",
    "average_balance_outliers = num_df[(num_df['average_balance']<lower_limit) | (num_df['average_balance']>upper_limit)]\n",
    "print(len(average_balance_outliers))\n",
    "print(num_df.average_balance.shape)\n",
    "len(average_balance_outliers)/num_df.average_balance.shape[0]"
   ]
  },
  {
   "cell_type": "code",
   "execution_count": 26,
   "id": "5d995384-ba86-457a-871c-147b6512b834",
   "metadata": {},
   "outputs": [],
   "source": [
    "# A data frame is obtained for those values less than the lower limit and greater than the upper limit. \n",
    "# This is done to know how many outliers there are."
   ]
  },
  {
   "cell_type": "code",
   "execution_count": 27,
   "id": "6c035b11-f5c6-4ce5-a04e-229744da0983",
   "metadata": {},
   "outputs": [
    {
     "name": "stdout",
     "output_type": "stream",
     "text": [
      "1\n",
      "(17976,)\n"
     ]
    },
    {
     "data": {
      "text/plain": [
       "5.562972852692479e-05"
      ]
     },
     "execution_count": 27,
     "metadata": {},
     "output_type": "execute_result"
    }
   ],
   "source": [
    "q1=np.percentile(num_df['q1_balance'], 25)   # percentile 25\n",
    "q3=np.percentile(num_df['q1_balance'], 75)   # percentile 75\n",
    "iqr=q3-q1 \n",
    "\n",
    "upper_limit = q3 + 1.5*iqr\n",
    "lower_limit = q1 - 1.5*iqr\n",
    "\n",
    "q1_balance_outliers = num_df[(num_df['q1_balance']<lower_limit) | (num_df['q1_balance']>upper_limit)]\n",
    "print(len(q1_balance_outliers))\n",
    "print(num_df.average_balance.shape)\n",
    "len(q1_balance_outliers)/num_df.average_balance.shape[0]"
   ]
  },
  {
   "cell_type": "code",
   "execution_count": 28,
   "id": "c2667a70-9196-4cb4-8012-8188b693bc33",
   "metadata": {},
   "outputs": [
    {
     "name": "stdout",
     "output_type": "stream",
     "text": [
      "5\n",
      "(17976,)\n"
     ]
    },
    {
     "data": {
      "text/plain": [
       "0.00027814864263462394"
      ]
     },
     "execution_count": 28,
     "metadata": {},
     "output_type": "execute_result"
    }
   ],
   "source": [
    "q1=np.percentile(num_df['q2_balance'], 25)   # percentile 25\n",
    "q3=np.percentile(num_df['q2_balance'], 75)   # percentile 75\n",
    "iqr=q3-q1 \n",
    "\n",
    "upper_limit = q3 + 1.5*iqr\n",
    "lower_limit = q1 - 1.5*iqr\n",
    "\n",
    "q2_balance_outliers = num_df[(num_df['q2_balance']<lower_limit) | (num_df['q2_balance']>upper_limit)]\n",
    "print(len(q2_balance_outliers))\n",
    "print(num_df.average_balance.shape)\n",
    "len(q2_balance_outliers)/num_df.average_balance.shape[0]"
   ]
  },
  {
   "cell_type": "code",
   "execution_count": 29,
   "id": "afa952df-f350-40f0-ac80-a65e0f9a1015",
   "metadata": {},
   "outputs": [
    {
     "name": "stdout",
     "output_type": "stream",
     "text": [
      "6\n",
      "(17976,)\n"
     ]
    },
    {
     "data": {
      "text/plain": [
       "0.0003337783711615487"
      ]
     },
     "execution_count": 29,
     "metadata": {},
     "output_type": "execute_result"
    }
   ],
   "source": [
    "q1=np.percentile(num_df['q3_balance'], 25)   # percentile 25\n",
    "q3=np.percentile(num_df['q3_balance'], 75)   # percentile 75\n",
    "iqr=q3-q1 \n",
    "\n",
    "upper_limit = q3 + 1.5*iqr\n",
    "lower_limit = q1 - 1.5*iqr\n",
    "\n",
    "q3_balance_outliers = num_df[(num_df['q3_balance']<lower_limit) | (num_df['q3_balance']>upper_limit)]\n",
    "print(len(q3_balance_outliers))\n",
    "print(num_df.average_balance.shape)\n",
    "len(q3_balance_outliers)/num_df.average_balance.shape[0]"
   ]
  },
  {
   "cell_type": "code",
   "execution_count": 30,
   "id": "77541969-c16a-4944-8af6-2eb8085b9da2",
   "metadata": {},
   "outputs": [
    {
     "name": "stdout",
     "output_type": "stream",
     "text": [
      "5\n",
      "(17976,)\n"
     ]
    },
    {
     "data": {
      "text/plain": [
       "0.00027814864263462394"
      ]
     },
     "execution_count": 30,
     "metadata": {},
     "output_type": "execute_result"
    }
   ],
   "source": [
    "q1=np.percentile(num_df['q4_balance'], 25)   # percentile 25\n",
    "q3=np.percentile(num_df['q4_balance'], 75)   # percentile 75\n",
    "iqr=q3-q1 \n",
    "\n",
    "upper_limit = q3 + 1.5*iqr\n",
    "lower_limit = q1 - 1.5*iqr\n",
    "\n",
    "q4_balance_outliers = num_df[(num_df['q4_balance']<lower_limit) | (num_df['q4_balance']>upper_limit)]\n",
    "print(len(q4_balance_outliers))\n",
    "print(num_df.average_balance.shape)\n",
    "len(q4_balance_outliers)/num_df.average_balance.shape[0]"
   ]
  },
  {
   "cell_type": "code",
   "execution_count": 31,
   "id": "0b185c7f-9b8f-48c0-a848-219f2676bc6c",
   "metadata": {},
   "outputs": [],
   "source": [
    "# For all columns except average_balance, outliers could be removed as they represent a percentage less than 0.5% \n",
    "# Outliers in average_balance represent 8%"
   ]
  },
  {
   "cell_type": "markdown",
   "id": "5042e1af-9f33-4b77-a28b-9f63b4ce816c",
   "metadata": {
    "tags": []
   },
   "source": [
    "#### 3.2 Categorical columns and its plots."
   ]
  },
  {
   "cell_type": "markdown",
   "id": "9a8cb1b5-2667-4441-976d-38ea3b519afb",
   "metadata": {
    "tags": []
   },
   "source": [
    "##### - Plots"
   ]
  },
  {
   "cell_type": "code",
   "execution_count": 32,
   "id": "8e43cb7d-f559-48f0-b212-b40873c1f5a7",
   "metadata": {},
   "outputs": [
    {
     "data": {
      "text/html": [
       "<div>\n",
       "<style scoped>\n",
       "    .dataframe tbody tr th:only-of-type {\n",
       "        vertical-align: middle;\n",
       "    }\n",
       "\n",
       "    .dataframe tbody tr th {\n",
       "        vertical-align: top;\n",
       "    }\n",
       "\n",
       "    .dataframe thead th {\n",
       "        text-align: right;\n",
       "    }\n",
       "</style>\n",
       "<table border=\"1\" class=\"dataframe\">\n",
       "  <thead>\n",
       "    <tr style=\"text-align: right;\">\n",
       "      <th></th>\n",
       "      <th>offer_accepted</th>\n",
       "      <th>reward</th>\n",
       "      <th>mailer_type</th>\n",
       "      <th>income_level</th>\n",
       "      <th>overdraft_protection</th>\n",
       "      <th>credit_rating</th>\n",
       "      <th>own_your_home</th>\n",
       "    </tr>\n",
       "  </thead>\n",
       "  <tbody>\n",
       "    <tr>\n",
       "      <th>0</th>\n",
       "      <td>No</td>\n",
       "      <td>Air Miles</td>\n",
       "      <td>Letter</td>\n",
       "      <td>High</td>\n",
       "      <td>No</td>\n",
       "      <td>High</td>\n",
       "      <td>No</td>\n",
       "    </tr>\n",
       "    <tr>\n",
       "      <th>1</th>\n",
       "      <td>No</td>\n",
       "      <td>Air Miles</td>\n",
       "      <td>Letter</td>\n",
       "      <td>Medium</td>\n",
       "      <td>No</td>\n",
       "      <td>Medium</td>\n",
       "      <td>Yes</td>\n",
       "    </tr>\n",
       "    <tr>\n",
       "      <th>2</th>\n",
       "      <td>No</td>\n",
       "      <td>Air Miles</td>\n",
       "      <td>Postcard</td>\n",
       "      <td>High</td>\n",
       "      <td>No</td>\n",
       "      <td>Medium</td>\n",
       "      <td>Yes</td>\n",
       "    </tr>\n",
       "  </tbody>\n",
       "</table>\n",
       "</div>"
      ],
      "text/plain": [
       "  offer_accepted     reward mailer_type income_level overdraft_protection  \\\n",
       "0             No  Air Miles      Letter         High                   No   \n",
       "1             No  Air Miles      Letter       Medium                   No   \n",
       "2             No  Air Miles    Postcard         High                   No   \n",
       "\n",
       "  credit_rating own_your_home  \n",
       "0          High            No  \n",
       "1        Medium           Yes  \n",
       "2        Medium           Yes  "
      ]
     },
     "execution_count": 32,
     "metadata": {},
     "output_type": "execute_result"
    }
   ],
   "source": [
    "cat_df = data.select_dtypes('object')\n",
    "cat_df.head(3)"
   ]
  },
  {
   "cell_type": "code",
   "execution_count": 33,
   "id": "fd26c303-367c-4583-93cb-262dcb8c2ff8",
   "metadata": {},
   "outputs": [
    {
     "data": {
      "image/png": "[encoded data removed]",
      "text/plain": [
       "<Figure size 800x400 with 1 Axes>"
      ]
     },
     "metadata": {},
     "output_type": "display_data"
    },
    {
     "data": {
      "image/png": "[encoded data removed]",
      "text/plain": [
       "<Figure size 800x400 with 1 Axes>"
      ]
     },
     "metadata": {},
     "output_type": "display_data"
    },
    {
     "data": {
      "image/png": "[encoded data removed]",
      "text/plain": [
       "<Figure size 800x400 with 1 Axes>"
      ]
     },
     "metadata": {},
     "output_type": "display_data"
    },
    {
     "data": {
      "image/png": "[encoded data removed]",
      "text/plain": [
       "<Figure size 800x400 with 1 Axes>"
      ]
     },
     "metadata": {},
     "output_type": "display_data"
    },
    {
     "data": {
      "image/png": "[encoded data removed]",
      "text/plain": [
       "<Figure size 800x400 with 1 Axes>"
      ]
     },
     "metadata": {},
     "output_type": "display_data"
    },
    {
     "data": {
      "image/png": "[encoded data removed]",
      "text/plain": [
       "<Figure size 800x400 with 1 Axes>"
      ]
     },
     "metadata": {},
     "output_type": "display_data"
    },
    {
     "data": {
      "image/png": "[encoded data removed]",
      "text/plain": [
       "<Figure size 800x400 with 1 Axes>"
      ]
     },
     "metadata": {},
     "output_type": "display_data"
    }
   ],
   "source": [
    "for column in cat_df.columns[0:7]:\n",
    "    if not column in ['customer_number']:\n",
    "        plt.figure(figsize=(8,4))\n",
    "        sns.countplot(data=data, x=cat_df[column], hue=data['offer_accepted'])\n",
    "        plt.show()"
   ]
  },
  {
   "cell_type": "markdown",
   "id": "3ee2f09f-6b87-4885-b151-1ed849383eab",
   "metadata": {
    "tags": []
   },
   "source": [
    "##### - Encoding"
   ]
  },
  {
   "cell_type": "code",
   "execution_count": 34,
   "id": "bce62339-a5f3-4a84-be2b-17a25d7e27f5",
   "metadata": {},
   "outputs": [],
   "source": [
    "# For those columns that do not have a specific order, One-Hot Encoder is used, to encode each  \n",
    "# category of the columns into a binary column, where 1 indicates yes and 0 indicates no."
   ]
  },
  {
   "cell_type": "code",
   "execution_count": 35,
   "id": "486f1356-d43c-4538-98a4-929b69adba5a",
   "metadata": {},
   "outputs": [],
   "source": [
    "for column in cat_df.columns:\n",
    "     if column in ['offer_accepted', 'mailer_type','overdraft_protection', 'own_your_home']:\n",
    "        enc = preprocessing.OneHotEncoder(drop='first', sparse_output=False)\n",
    "        cat_df[column] = enc.fit_transform(cat_df[[column]])\n",
    "        cat_df[column] = pd.DataFrame(cat_df[column])"
   ]
  },
  {
   "cell_type": "code",
   "execution_count": 36,
   "id": "654d08bb-7b22-4913-acab-05a5712d4469",
   "metadata": {},
   "outputs": [
    {
     "data": {
      "text/html": [
       "<div>\n",
       "<style scoped>\n",
       "    .dataframe tbody tr th:only-of-type {\n",
       "        vertical-align: middle;\n",
       "    }\n",
       "\n",
       "    .dataframe tbody tr th {\n",
       "        vertical-align: top;\n",
       "    }\n",
       "\n",
       "    .dataframe thead th {\n",
       "        text-align: right;\n",
       "    }\n",
       "</style>\n",
       "<table border=\"1\" class=\"dataframe\">\n",
       "  <thead>\n",
       "    <tr style=\"text-align: right;\">\n",
       "      <th></th>\n",
       "      <th>offer_accepted</th>\n",
       "      <th>reward</th>\n",
       "      <th>mailer_type</th>\n",
       "      <th>income_level</th>\n",
       "      <th>overdraft_protection</th>\n",
       "      <th>credit_rating</th>\n",
       "      <th>own_your_home</th>\n",
       "    </tr>\n",
       "  </thead>\n",
       "  <tbody>\n",
       "    <tr>\n",
       "      <th>0</th>\n",
       "      <td>0.0</td>\n",
       "      <td>Air Miles</td>\n",
       "      <td>0.0</td>\n",
       "      <td>High</td>\n",
       "      <td>0.0</td>\n",
       "      <td>High</td>\n",
       "      <td>0.0</td>\n",
       "    </tr>\n",
       "    <tr>\n",
       "      <th>1</th>\n",
       "      <td>0.0</td>\n",
       "      <td>Air Miles</td>\n",
       "      <td>0.0</td>\n",
       "      <td>Medium</td>\n",
       "      <td>0.0</td>\n",
       "      <td>Medium</td>\n",
       "      <td>1.0</td>\n",
       "    </tr>\n",
       "    <tr>\n",
       "      <th>2</th>\n",
       "      <td>0.0</td>\n",
       "      <td>Air Miles</td>\n",
       "      <td>1.0</td>\n",
       "      <td>High</td>\n",
       "      <td>0.0</td>\n",
       "      <td>Medium</td>\n",
       "      <td>1.0</td>\n",
       "    </tr>\n",
       "  </tbody>\n",
       "</table>\n",
       "</div>"
      ],
      "text/plain": [
       "   offer_accepted     reward  mailer_type income_level  overdraft_protection  \\\n",
       "0             0.0  Air Miles          0.0         High                   0.0   \n",
       "1             0.0  Air Miles          0.0       Medium                   0.0   \n",
       "2             0.0  Air Miles          1.0         High                   0.0   \n",
       "\n",
       "  credit_rating  own_your_home  \n",
       "0          High            0.0  \n",
       "1        Medium            1.0  \n",
       "2        Medium            1.0  "
      ]
     },
     "execution_count": 36,
     "metadata": {},
     "output_type": "execute_result"
    }
   ],
   "source": [
    "cat_df.head(3)"
   ]
  },
  {
   "cell_type": "code",
   "execution_count": 37,
   "id": "b92d17dd-d2ae-40bb-b7e1-5b4a19b296a7",
   "metadata": {},
   "outputs": [
    {
     "data": {
      "text/html": [
       "<div>\n",
       "<style scoped>\n",
       "    .dataframe tbody tr th:only-of-type {\n",
       "        vertical-align: middle;\n",
       "    }\n",
       "\n",
       "    .dataframe tbody tr th {\n",
       "        vertical-align: top;\n",
       "    }\n",
       "\n",
       "    .dataframe thead th {\n",
       "        text-align: right;\n",
       "    }\n",
       "</style>\n",
       "<table border=\"1\" class=\"dataframe\">\n",
       "  <thead>\n",
       "    <tr style=\"text-align: right;\">\n",
       "      <th></th>\n",
       "      <th>offer_accepted</th>\n",
       "      <th>mailer_type</th>\n",
       "      <th>income_level</th>\n",
       "      <th>overdraft_protection</th>\n",
       "      <th>credit_rating</th>\n",
       "      <th>own_your_home</th>\n",
       "      <th>reward_Cash Back</th>\n",
       "      <th>reward_Points</th>\n",
       "    </tr>\n",
       "  </thead>\n",
       "  <tbody>\n",
       "    <tr>\n",
       "      <th>0</th>\n",
       "      <td>0.0</td>\n",
       "      <td>0.0</td>\n",
       "      <td>High</td>\n",
       "      <td>0.0</td>\n",
       "      <td>High</td>\n",
       "      <td>0.0</td>\n",
       "      <td>0</td>\n",
       "      <td>0</td>\n",
       "    </tr>\n",
       "    <tr>\n",
       "      <th>1</th>\n",
       "      <td>0.0</td>\n",
       "      <td>0.0</td>\n",
       "      <td>Medium</td>\n",
       "      <td>0.0</td>\n",
       "      <td>Medium</td>\n",
       "      <td>1.0</td>\n",
       "      <td>0</td>\n",
       "      <td>0</td>\n",
       "    </tr>\n",
       "    <tr>\n",
       "      <th>2</th>\n",
       "      <td>0.0</td>\n",
       "      <td>1.0</td>\n",
       "      <td>High</td>\n",
       "      <td>0.0</td>\n",
       "      <td>Medium</td>\n",
       "      <td>1.0</td>\n",
       "      <td>0</td>\n",
       "      <td>0</td>\n",
       "    </tr>\n",
       "  </tbody>\n",
       "</table>\n",
       "</div>"
      ],
      "text/plain": [
       "   offer_accepted  mailer_type income_level  overdraft_protection  \\\n",
       "0             0.0          0.0         High                   0.0   \n",
       "1             0.0          0.0       Medium                   0.0   \n",
       "2             0.0          1.0         High                   0.0   \n",
       "\n",
       "  credit_rating  own_your_home  reward_Cash Back  reward_Points  \n",
       "0          High            0.0                 0              0  \n",
       "1        Medium            1.0                 0              0  \n",
       "2        Medium            1.0                 0              0  "
      ]
     },
     "execution_count": 37,
     "metadata": {},
     "output_type": "execute_result"
    }
   ],
   "source": [
    "# For the reward column, the get_dummies encoder is used to create binary columns for each category.\n",
    "\n",
    "dummies_encoder = pd.get_dummies(cat_df, drop_first=True, columns=['reward'])\n",
    "dummies_encoder.head(3)"
   ]
  },
  {
   "cell_type": "code",
   "execution_count": 38,
   "id": "3d7f48ca-1af8-4b39-9eb9-b94e5b7c5947",
   "metadata": {},
   "outputs": [
    {
     "data": {
      "text/html": [
       "<div>\n",
       "<style scoped>\n",
       "    .dataframe tbody tr th:only-of-type {\n",
       "        vertical-align: middle;\n",
       "    }\n",
       "\n",
       "    .dataframe tbody tr th {\n",
       "        vertical-align: top;\n",
       "    }\n",
       "\n",
       "    .dataframe thead th {\n",
       "        text-align: right;\n",
       "    }\n",
       "</style>\n",
       "<table border=\"1\" class=\"dataframe\">\n",
       "  <thead>\n",
       "    <tr style=\"text-align: right;\">\n",
       "      <th></th>\n",
       "      <th>offer_accepted</th>\n",
       "      <th>mailer_type</th>\n",
       "      <th>overdraft_protection</th>\n",
       "      <th>own_your_home</th>\n",
       "      <th>reward_Cash Back</th>\n",
       "      <th>reward_Points</th>\n",
       "    </tr>\n",
       "  </thead>\n",
       "  <tbody>\n",
       "    <tr>\n",
       "      <th>0</th>\n",
       "      <td>0.0</td>\n",
       "      <td>0.0</td>\n",
       "      <td>0.0</td>\n",
       "      <td>0.0</td>\n",
       "      <td>0</td>\n",
       "      <td>0</td>\n",
       "    </tr>\n",
       "    <tr>\n",
       "      <th>1</th>\n",
       "      <td>0.0</td>\n",
       "      <td>0.0</td>\n",
       "      <td>0.0</td>\n",
       "      <td>1.0</td>\n",
       "      <td>0</td>\n",
       "      <td>0</td>\n",
       "    </tr>\n",
       "    <tr>\n",
       "      <th>2</th>\n",
       "      <td>0.0</td>\n",
       "      <td>1.0</td>\n",
       "      <td>0.0</td>\n",
       "      <td>1.0</td>\n",
       "      <td>0</td>\n",
       "      <td>0</td>\n",
       "    </tr>\n",
       "    <tr>\n",
       "      <th>3</th>\n",
       "      <td>0.0</td>\n",
       "      <td>0.0</td>\n",
       "      <td>0.0</td>\n",
       "      <td>0.0</td>\n",
       "      <td>0</td>\n",
       "      <td>0</td>\n",
       "    </tr>\n",
       "    <tr>\n",
       "      <th>4</th>\n",
       "      <td>0.0</td>\n",
       "      <td>0.0</td>\n",
       "      <td>0.0</td>\n",
       "      <td>1.0</td>\n",
       "      <td>0</td>\n",
       "      <td>0</td>\n",
       "    </tr>\n",
       "    <tr>\n",
       "      <th>...</th>\n",
       "      <td>...</td>\n",
       "      <td>...</td>\n",
       "      <td>...</td>\n",
       "      <td>...</td>\n",
       "      <td>...</td>\n",
       "      <td>...</td>\n",
       "    </tr>\n",
       "    <tr>\n",
       "      <th>17995</th>\n",
       "      <td>0.0</td>\n",
       "      <td>0.0</td>\n",
       "      <td>0.0</td>\n",
       "      <td>1.0</td>\n",
       "      <td>1</td>\n",
       "      <td>0</td>\n",
       "    </tr>\n",
       "    <tr>\n",
       "      <th>17996</th>\n",
       "      <td>0.0</td>\n",
       "      <td>0.0</td>\n",
       "      <td>0.0</td>\n",
       "      <td>1.0</td>\n",
       "      <td>1</td>\n",
       "      <td>0</td>\n",
       "    </tr>\n",
       "    <tr>\n",
       "      <th>17997</th>\n",
       "      <td>0.0</td>\n",
       "      <td>0.0</td>\n",
       "      <td>0.0</td>\n",
       "      <td>0.0</td>\n",
       "      <td>1</td>\n",
       "      <td>0</td>\n",
       "    </tr>\n",
       "    <tr>\n",
       "      <th>17998</th>\n",
       "      <td>0.0</td>\n",
       "      <td>0.0</td>\n",
       "      <td>0.0</td>\n",
       "      <td>1.0</td>\n",
       "      <td>1</td>\n",
       "      <td>0</td>\n",
       "    </tr>\n",
       "    <tr>\n",
       "      <th>17999</th>\n",
       "      <td>0.0</td>\n",
       "      <td>0.0</td>\n",
       "      <td>0.0</td>\n",
       "      <td>0.0</td>\n",
       "      <td>1</td>\n",
       "      <td>0</td>\n",
       "    </tr>\n",
       "  </tbody>\n",
       "</table>\n",
       "<p>17976 rows × 6 columns</p>\n",
       "</div>"
      ],
      "text/plain": [
       "       offer_accepted  mailer_type  overdraft_protection  own_your_home  \\\n",
       "0                 0.0          0.0                   0.0            0.0   \n",
       "1                 0.0          0.0                   0.0            1.0   \n",
       "2                 0.0          1.0                   0.0            1.0   \n",
       "3                 0.0          0.0                   0.0            0.0   \n",
       "4                 0.0          0.0                   0.0            1.0   \n",
       "...               ...          ...                   ...            ...   \n",
       "17995             0.0          0.0                   0.0            1.0   \n",
       "17996             0.0          0.0                   0.0            1.0   \n",
       "17997             0.0          0.0                   0.0            0.0   \n",
       "17998             0.0          0.0                   0.0            1.0   \n",
       "17999             0.0          0.0                   0.0            0.0   \n",
       "\n",
       "       reward_Cash Back  reward_Points  \n",
       "0                     0              0  \n",
       "1                     0              0  \n",
       "2                     0              0  \n",
       "3                     0              0  \n",
       "4                     0              0  \n",
       "...                 ...            ...  \n",
       "17995                 1              0  \n",
       "17996                 1              0  \n",
       "17997                 1              0  \n",
       "17998                 1              0  \n",
       "17999                 1              0  \n",
       "\n",
       "[17976 rows x 6 columns]"
      ]
     },
     "execution_count": 38,
     "metadata": {},
     "output_type": "execute_result"
    }
   ],
   "source": [
    "# We remove the columns that are not encoded, such as income_leve and credit_rating, \n",
    "# so that it is later concatenated with the encoded dataframes.\n",
    "\n",
    "dummies_encoder.drop(['income_level', 'credit_rating'], axis=1, inplace=True)\n",
    "dummies_encoder"
   ]
  },
  {
   "cell_type": "code",
   "execution_count": 39,
   "id": "14d15367-f67b-4241-8444-24213814b5d4",
   "metadata": {},
   "outputs": [
    {
     "data": {
      "text/html": [
       "<div>\n",
       "<style scoped>\n",
       "    .dataframe tbody tr th:only-of-type {\n",
       "        vertical-align: middle;\n",
       "    }\n",
       "\n",
       "    .dataframe tbody tr th {\n",
       "        vertical-align: top;\n",
       "    }\n",
       "\n",
       "    .dataframe thead th {\n",
       "        text-align: right;\n",
       "    }\n",
       "</style>\n",
       "<table border=\"1\" class=\"dataframe\">\n",
       "  <thead>\n",
       "    <tr style=\"text-align: right;\">\n",
       "      <th></th>\n",
       "      <th>income_level</th>\n",
       "    </tr>\n",
       "  </thead>\n",
       "  <tbody>\n",
       "    <tr>\n",
       "      <th>0</th>\n",
       "      <td>2</td>\n",
       "    </tr>\n",
       "    <tr>\n",
       "      <th>1</th>\n",
       "      <td>1</td>\n",
       "    </tr>\n",
       "    <tr>\n",
       "      <th>2</th>\n",
       "      <td>2</td>\n",
       "    </tr>\n",
       "  </tbody>\n",
       "</table>\n",
       "</div>"
      ],
      "text/plain": [
       "   income_level\n",
       "0             2\n",
       "1             1\n",
       "2             2"
      ]
     },
     "execution_count": 39,
     "metadata": {},
     "output_type": "execute_result"
    }
   ],
   "source": [
    "# And for those columns that have a specific order, ordinal_encoder is used.\n",
    "\n",
    "maplist = [{'col': 'income_level', 'mapping': {'Low': 0, 'Medium': 1,'High': 2}}]\n",
    "oe = OrdinalEncoder(mapping=maplist)\n",
    "oe_income_level = oe.fit_transform(cat_df['income_level'])\n",
    "oe_income_level = pd.DataFrame(oe_income_level, columns=['income_level'])\n",
    "oe_income_level.head(3)"
   ]
  },
  {
   "cell_type": "code",
   "execution_count": 40,
   "id": "b93083ac-d993-4028-90ab-e2c69920dfad",
   "metadata": {},
   "outputs": [
    {
     "data": {
      "text/html": [
       "<div>\n",
       "<style scoped>\n",
       "    .dataframe tbody tr th:only-of-type {\n",
       "        vertical-align: middle;\n",
       "    }\n",
       "\n",
       "    .dataframe tbody tr th {\n",
       "        vertical-align: top;\n",
       "    }\n",
       "\n",
       "    .dataframe thead th {\n",
       "        text-align: right;\n",
       "    }\n",
       "</style>\n",
       "<table border=\"1\" class=\"dataframe\">\n",
       "  <thead>\n",
       "    <tr style=\"text-align: right;\">\n",
       "      <th></th>\n",
       "      <th>credit_rating</th>\n",
       "    </tr>\n",
       "  </thead>\n",
       "  <tbody>\n",
       "    <tr>\n",
       "      <th>0</th>\n",
       "      <td>2</td>\n",
       "    </tr>\n",
       "    <tr>\n",
       "      <th>1</th>\n",
       "      <td>1</td>\n",
       "    </tr>\n",
       "    <tr>\n",
       "      <th>2</th>\n",
       "      <td>1</td>\n",
       "    </tr>\n",
       "  </tbody>\n",
       "</table>\n",
       "</div>"
      ],
      "text/plain": [
       "   credit_rating\n",
       "0              2\n",
       "1              1\n",
       "2              1"
      ]
     },
     "execution_count": 40,
     "metadata": {},
     "output_type": "execute_result"
    }
   ],
   "source": [
    "maplist = [{'col': 'credit_rating', 'mapping': {'Low': 0, 'Medium': 1,'High': 2}}]\n",
    "oe = OrdinalEncoder(mapping=maplist)\n",
    "oe_credit_rating = oe.fit_transform(cat_df['credit_rating'])\n",
    "oe_credit_rating = pd.DataFrame(oe_credit_rating, columns=['credit_rating'])\n",
    "oe_credit_rating.head(3)"
   ]
  },
  {
   "cell_type": "code",
   "execution_count": 41,
   "id": "6d052ce9-6552-4f58-9d71-4e9def1a5cd7",
   "metadata": {},
   "outputs": [
    {
     "data": {
      "text/html": [
       "<div>\n",
       "<style scoped>\n",
       "    .dataframe tbody tr th:only-of-type {\n",
       "        vertical-align: middle;\n",
       "    }\n",
       "\n",
       "    .dataframe tbody tr th {\n",
       "        vertical-align: top;\n",
       "    }\n",
       "\n",
       "    .dataframe thead th {\n",
       "        text-align: right;\n",
       "    }\n",
       "</style>\n",
       "<table border=\"1\" class=\"dataframe\">\n",
       "  <thead>\n",
       "    <tr style=\"text-align: right;\">\n",
       "      <th></th>\n",
       "      <th>credit_rating</th>\n",
       "      <th>income_level</th>\n",
       "      <th>offer_accepted</th>\n",
       "      <th>mailer_type</th>\n",
       "      <th>overdraft_protection</th>\n",
       "      <th>own_your_home</th>\n",
       "      <th>reward_Cash Back</th>\n",
       "      <th>reward_Points</th>\n",
       "    </tr>\n",
       "  </thead>\n",
       "  <tbody>\n",
       "    <tr>\n",
       "      <th>0</th>\n",
       "      <td>2</td>\n",
       "      <td>2</td>\n",
       "      <td>0.0</td>\n",
       "      <td>0.0</td>\n",
       "      <td>0.0</td>\n",
       "      <td>0.0</td>\n",
       "      <td>0</td>\n",
       "      <td>0</td>\n",
       "    </tr>\n",
       "    <tr>\n",
       "      <th>1</th>\n",
       "      <td>1</td>\n",
       "      <td>1</td>\n",
       "      <td>0.0</td>\n",
       "      <td>0.0</td>\n",
       "      <td>0.0</td>\n",
       "      <td>1.0</td>\n",
       "      <td>0</td>\n",
       "      <td>0</td>\n",
       "    </tr>\n",
       "    <tr>\n",
       "      <th>2</th>\n",
       "      <td>1</td>\n",
       "      <td>2</td>\n",
       "      <td>0.0</td>\n",
       "      <td>1.0</td>\n",
       "      <td>0.0</td>\n",
       "      <td>1.0</td>\n",
       "      <td>0</td>\n",
       "      <td>0</td>\n",
       "    </tr>\n",
       "    <tr>\n",
       "      <th>3</th>\n",
       "      <td>2</td>\n",
       "      <td>1</td>\n",
       "      <td>0.0</td>\n",
       "      <td>0.0</td>\n",
       "      <td>0.0</td>\n",
       "      <td>0.0</td>\n",
       "      <td>0</td>\n",
       "      <td>0</td>\n",
       "    </tr>\n",
       "    <tr>\n",
       "      <th>4</th>\n",
       "      <td>1</td>\n",
       "      <td>1</td>\n",
       "      <td>0.0</td>\n",
       "      <td>0.0</td>\n",
       "      <td>0.0</td>\n",
       "      <td>1.0</td>\n",
       "      <td>0</td>\n",
       "      <td>0</td>\n",
       "    </tr>\n",
       "    <tr>\n",
       "      <th>...</th>\n",
       "      <td>...</td>\n",
       "      <td>...</td>\n",
       "      <td>...</td>\n",
       "      <td>...</td>\n",
       "      <td>...</td>\n",
       "      <td>...</td>\n",
       "      <td>...</td>\n",
       "      <td>...</td>\n",
       "    </tr>\n",
       "    <tr>\n",
       "      <th>17995</th>\n",
       "      <td>0</td>\n",
       "      <td>2</td>\n",
       "      <td>0.0</td>\n",
       "      <td>0.0</td>\n",
       "      <td>0.0</td>\n",
       "      <td>1.0</td>\n",
       "      <td>1</td>\n",
       "      <td>0</td>\n",
       "    </tr>\n",
       "    <tr>\n",
       "      <th>17996</th>\n",
       "      <td>0</td>\n",
       "      <td>2</td>\n",
       "      <td>0.0</td>\n",
       "      <td>0.0</td>\n",
       "      <td>0.0</td>\n",
       "      <td>1.0</td>\n",
       "      <td>1</td>\n",
       "      <td>0</td>\n",
       "    </tr>\n",
       "    <tr>\n",
       "      <th>17997</th>\n",
       "      <td>0</td>\n",
       "      <td>2</td>\n",
       "      <td>0.0</td>\n",
       "      <td>0.0</td>\n",
       "      <td>0.0</td>\n",
       "      <td>0.0</td>\n",
       "      <td>1</td>\n",
       "      <td>0</td>\n",
       "    </tr>\n",
       "    <tr>\n",
       "      <th>17998</th>\n",
       "      <td>1</td>\n",
       "      <td>1</td>\n",
       "      <td>0.0</td>\n",
       "      <td>0.0</td>\n",
       "      <td>0.0</td>\n",
       "      <td>1.0</td>\n",
       "      <td>1</td>\n",
       "      <td>0</td>\n",
       "    </tr>\n",
       "    <tr>\n",
       "      <th>17999</th>\n",
       "      <td>1</td>\n",
       "      <td>0</td>\n",
       "      <td>0.0</td>\n",
       "      <td>0.0</td>\n",
       "      <td>0.0</td>\n",
       "      <td>0.0</td>\n",
       "      <td>1</td>\n",
       "      <td>0</td>\n",
       "    </tr>\n",
       "  </tbody>\n",
       "</table>\n",
       "<p>17976 rows × 8 columns</p>\n",
       "</div>"
      ],
      "text/plain": [
       "       credit_rating  income_level  offer_accepted  mailer_type  \\\n",
       "0                  2             2             0.0          0.0   \n",
       "1                  1             1             0.0          0.0   \n",
       "2                  1             2             0.0          1.0   \n",
       "3                  2             1             0.0          0.0   \n",
       "4                  1             1             0.0          0.0   \n",
       "...              ...           ...             ...          ...   \n",
       "17995              0             2             0.0          0.0   \n",
       "17996              0             2             0.0          0.0   \n",
       "17997              0             2             0.0          0.0   \n",
       "17998              1             1             0.0          0.0   \n",
       "17999              1             0             0.0          0.0   \n",
       "\n",
       "       overdraft_protection  own_your_home  reward_Cash Back  reward_Points  \n",
       "0                       0.0            0.0                 0              0  \n",
       "1                       0.0            1.0                 0              0  \n",
       "2                       0.0            1.0                 0              0  \n",
       "3                       0.0            0.0                 0              0  \n",
       "4                       0.0            1.0                 0              0  \n",
       "...                     ...            ...               ...            ...  \n",
       "17995                   0.0            1.0                 1              0  \n",
       "17996                   0.0            1.0                 1              0  \n",
       "17997                   0.0            0.0                 1              0  \n",
       "17998                   0.0            1.0                 1              0  \n",
       "17999                   0.0            0.0                 1              0  \n",
       "\n",
       "[17976 rows x 8 columns]"
      ]
     },
     "execution_count": 41,
     "metadata": {},
     "output_type": "execute_result"
    }
   ],
   "source": [
    "#Create a categorical dataframe with coded columns\n",
    "categorical_df = pd.concat([oe_credit_rating, oe_income_level, dummies_encoder], axis=1)\n",
    "categorical_df"
   ]
  },
  {
   "cell_type": "code",
   "execution_count": 42,
   "id": "ddd11b7c-ca06-4994-8785-5f2257eb90ae",
   "metadata": {},
   "outputs": [
    {
     "data": {
      "text/html": [
       "<div>\n",
       "<style scoped>\n",
       "    .dataframe tbody tr th:only-of-type {\n",
       "        vertical-align: middle;\n",
       "    }\n",
       "\n",
       "    .dataframe tbody tr th {\n",
       "        vertical-align: top;\n",
       "    }\n",
       "\n",
       "    .dataframe thead th {\n",
       "        text-align: right;\n",
       "    }\n",
       "</style>\n",
       "<table border=\"1\" class=\"dataframe\">\n",
       "  <thead>\n",
       "    <tr style=\"text-align: right;\">\n",
       "      <th></th>\n",
       "      <th>credit_rating</th>\n",
       "      <th>income_level</th>\n",
       "      <th>offer_accepted</th>\n",
       "      <th>mailer_type</th>\n",
       "      <th>overdraft_protection</th>\n",
       "      <th>own_your_home</th>\n",
       "      <th>reward_cash_back</th>\n",
       "      <th>reward_points</th>\n",
       "    </tr>\n",
       "  </thead>\n",
       "  <tbody>\n",
       "    <tr>\n",
       "      <th>0</th>\n",
       "      <td>2</td>\n",
       "      <td>2</td>\n",
       "      <td>0.0</td>\n",
       "      <td>0.0</td>\n",
       "      <td>0.0</td>\n",
       "      <td>0.0</td>\n",
       "      <td>0</td>\n",
       "      <td>0</td>\n",
       "    </tr>\n",
       "    <tr>\n",
       "      <th>1</th>\n",
       "      <td>1</td>\n",
       "      <td>1</td>\n",
       "      <td>0.0</td>\n",
       "      <td>0.0</td>\n",
       "      <td>0.0</td>\n",
       "      <td>1.0</td>\n",
       "      <td>0</td>\n",
       "      <td>0</td>\n",
       "    </tr>\n",
       "  </tbody>\n",
       "</table>\n",
       "</div>"
      ],
      "text/plain": [
       "   credit_rating  income_level  offer_accepted  mailer_type  \\\n",
       "0              2             2             0.0          0.0   \n",
       "1              1             1             0.0          0.0   \n",
       "\n",
       "   overdraft_protection  own_your_home  reward_cash_back  reward_points  \n",
       "0                   0.0            0.0                 0              0  \n",
       "1                   0.0            1.0                 0              0  "
      ]
     },
     "execution_count": 42,
     "metadata": {},
     "output_type": "execute_result"
    }
   ],
   "source": [
    "categorical_df.columns = categorical_df.columns.str.replace(' ', '_').str.lower()\n",
    "categorical_df.head(2)"
   ]
  },
  {
   "cell_type": "code",
   "execution_count": 43,
   "id": "58695302-c700-4b14-8da9-b7914a7d9059",
   "metadata": {},
   "outputs": [
    {
     "data": {
      "text/html": [
       "<div>\n",
       "<style scoped>\n",
       "    .dataframe tbody tr th:only-of-type {\n",
       "        vertical-align: middle;\n",
       "    }\n",
       "\n",
       "    .dataframe tbody tr th {\n",
       "        vertical-align: top;\n",
       "    }\n",
       "\n",
       "    .dataframe thead th {\n",
       "        text-align: right;\n",
       "    }\n",
       "</style>\n",
       "<table border=\"1\" class=\"dataframe\">\n",
       "  <thead>\n",
       "    <tr style=\"text-align: right;\">\n",
       "      <th></th>\n",
       "      <th>credit_rating</th>\n",
       "      <th>income_level</th>\n",
       "      <th>offer_accepted</th>\n",
       "      <th>mailer_type</th>\n",
       "      <th>overdraft_protection</th>\n",
       "      <th>own_your_home</th>\n",
       "      <th>reward_cash_back</th>\n",
       "      <th>reward_points</th>\n",
       "      <th>customer_number</th>\n",
       "      <th>#_bank_accounts_open</th>\n",
       "      <th>#_credit_cards_held</th>\n",
       "      <th>#_homes_owned</th>\n",
       "      <th>household_size</th>\n",
       "      <th>average_balance</th>\n",
       "      <th>q1_balance</th>\n",
       "      <th>q2_balance</th>\n",
       "      <th>q3_balance</th>\n",
       "      <th>q4_balance</th>\n",
       "    </tr>\n",
       "  </thead>\n",
       "  <tbody>\n",
       "    <tr>\n",
       "      <th>0</th>\n",
       "      <td>2</td>\n",
       "      <td>2</td>\n",
       "      <td>0.0</td>\n",
       "      <td>0.0</td>\n",
       "      <td>0.0</td>\n",
       "      <td>0.0</td>\n",
       "      <td>0</td>\n",
       "      <td>0</td>\n",
       "      <td>1</td>\n",
       "      <td>1</td>\n",
       "      <td>2</td>\n",
       "      <td>1</td>\n",
       "      <td>4</td>\n",
       "      <td>1160.75</td>\n",
       "      <td>1669.0</td>\n",
       "      <td>877.0</td>\n",
       "      <td>1095.0</td>\n",
       "      <td>1002.0</td>\n",
       "    </tr>\n",
       "    <tr>\n",
       "      <th>1</th>\n",
       "      <td>1</td>\n",
       "      <td>1</td>\n",
       "      <td>0.0</td>\n",
       "      <td>0.0</td>\n",
       "      <td>0.0</td>\n",
       "      <td>1.0</td>\n",
       "      <td>0</td>\n",
       "      <td>0</td>\n",
       "      <td>2</td>\n",
       "      <td>1</td>\n",
       "      <td>2</td>\n",
       "      <td>2</td>\n",
       "      <td>5</td>\n",
       "      <td>147.25</td>\n",
       "      <td>39.0</td>\n",
       "      <td>106.0</td>\n",
       "      <td>78.0</td>\n",
       "      <td>366.0</td>\n",
       "    </tr>\n",
       "    <tr>\n",
       "      <th>2</th>\n",
       "      <td>1</td>\n",
       "      <td>2</td>\n",
       "      <td>0.0</td>\n",
       "      <td>1.0</td>\n",
       "      <td>0.0</td>\n",
       "      <td>1.0</td>\n",
       "      <td>0</td>\n",
       "      <td>0</td>\n",
       "      <td>3</td>\n",
       "      <td>2</td>\n",
       "      <td>2</td>\n",
       "      <td>1</td>\n",
       "      <td>2</td>\n",
       "      <td>276.50</td>\n",
       "      <td>367.0</td>\n",
       "      <td>352.0</td>\n",
       "      <td>145.0</td>\n",
       "      <td>242.0</td>\n",
       "    </tr>\n",
       "    <tr>\n",
       "      <th>3</th>\n",
       "      <td>2</td>\n",
       "      <td>1</td>\n",
       "      <td>0.0</td>\n",
       "      <td>0.0</td>\n",
       "      <td>0.0</td>\n",
       "      <td>0.0</td>\n",
       "      <td>0</td>\n",
       "      <td>0</td>\n",
       "      <td>4</td>\n",
       "      <td>2</td>\n",
       "      <td>1</td>\n",
       "      <td>1</td>\n",
       "      <td>4</td>\n",
       "      <td>1219.00</td>\n",
       "      <td>1578.0</td>\n",
       "      <td>1760.0</td>\n",
       "      <td>1119.0</td>\n",
       "      <td>419.0</td>\n",
       "    </tr>\n",
       "    <tr>\n",
       "      <th>4</th>\n",
       "      <td>1</td>\n",
       "      <td>1</td>\n",
       "      <td>0.0</td>\n",
       "      <td>0.0</td>\n",
       "      <td>0.0</td>\n",
       "      <td>1.0</td>\n",
       "      <td>0</td>\n",
       "      <td>0</td>\n",
       "      <td>5</td>\n",
       "      <td>1</td>\n",
       "      <td>2</td>\n",
       "      <td>1</td>\n",
       "      <td>6</td>\n",
       "      <td>1211.00</td>\n",
       "      <td>2140.0</td>\n",
       "      <td>1357.0</td>\n",
       "      <td>982.0</td>\n",
       "      <td>365.0</td>\n",
       "    </tr>\n",
       "    <tr>\n",
       "      <th>...</th>\n",
       "      <td>...</td>\n",
       "      <td>...</td>\n",
       "      <td>...</td>\n",
       "      <td>...</td>\n",
       "      <td>...</td>\n",
       "      <td>...</td>\n",
       "      <td>...</td>\n",
       "      <td>...</td>\n",
       "      <td>...</td>\n",
       "      <td>...</td>\n",
       "      <td>...</td>\n",
       "      <td>...</td>\n",
       "      <td>...</td>\n",
       "      <td>...</td>\n",
       "      <td>...</td>\n",
       "      <td>...</td>\n",
       "      <td>...</td>\n",
       "      <td>...</td>\n",
       "    </tr>\n",
       "    <tr>\n",
       "      <th>17995</th>\n",
       "      <td>0</td>\n",
       "      <td>2</td>\n",
       "      <td>0.0</td>\n",
       "      <td>0.0</td>\n",
       "      <td>0.0</td>\n",
       "      <td>1.0</td>\n",
       "      <td>1</td>\n",
       "      <td>0</td>\n",
       "      <td>17996</td>\n",
       "      <td>1</td>\n",
       "      <td>1</td>\n",
       "      <td>1</td>\n",
       "      <td>5</td>\n",
       "      <td>167.50</td>\n",
       "      <td>136.0</td>\n",
       "      <td>65.0</td>\n",
       "      <td>71.0</td>\n",
       "      <td>398.0</td>\n",
       "    </tr>\n",
       "    <tr>\n",
       "      <th>17996</th>\n",
       "      <td>0</td>\n",
       "      <td>2</td>\n",
       "      <td>0.0</td>\n",
       "      <td>0.0</td>\n",
       "      <td>0.0</td>\n",
       "      <td>1.0</td>\n",
       "      <td>1</td>\n",
       "      <td>0</td>\n",
       "      <td>17997</td>\n",
       "      <td>1</td>\n",
       "      <td>3</td>\n",
       "      <td>1</td>\n",
       "      <td>3</td>\n",
       "      <td>850.50</td>\n",
       "      <td>984.0</td>\n",
       "      <td>940.0</td>\n",
       "      <td>943.0</td>\n",
       "      <td>535.0</td>\n",
       "    </tr>\n",
       "    <tr>\n",
       "      <th>17997</th>\n",
       "      <td>0</td>\n",
       "      <td>2</td>\n",
       "      <td>0.0</td>\n",
       "      <td>0.0</td>\n",
       "      <td>0.0</td>\n",
       "      <td>0.0</td>\n",
       "      <td>1</td>\n",
       "      <td>0</td>\n",
       "      <td>17998</td>\n",
       "      <td>1</td>\n",
       "      <td>2</td>\n",
       "      <td>1</td>\n",
       "      <td>4</td>\n",
       "      <td>1087.25</td>\n",
       "      <td>918.0</td>\n",
       "      <td>767.0</td>\n",
       "      <td>1170.0</td>\n",
       "      <td>1494.0</td>\n",
       "    </tr>\n",
       "    <tr>\n",
       "      <th>17998</th>\n",
       "      <td>1</td>\n",
       "      <td>1</td>\n",
       "      <td>0.0</td>\n",
       "      <td>0.0</td>\n",
       "      <td>0.0</td>\n",
       "      <td>1.0</td>\n",
       "      <td>1</td>\n",
       "      <td>0</td>\n",
       "      <td>17999</td>\n",
       "      <td>1</td>\n",
       "      <td>4</td>\n",
       "      <td>2</td>\n",
       "      <td>2</td>\n",
       "      <td>1022.25</td>\n",
       "      <td>626.0</td>\n",
       "      <td>983.0</td>\n",
       "      <td>865.0</td>\n",
       "      <td>1615.0</td>\n",
       "    </tr>\n",
       "    <tr>\n",
       "      <th>17999</th>\n",
       "      <td>1</td>\n",
       "      <td>0</td>\n",
       "      <td>0.0</td>\n",
       "      <td>0.0</td>\n",
       "      <td>0.0</td>\n",
       "      <td>0.0</td>\n",
       "      <td>1</td>\n",
       "      <td>0</td>\n",
       "      <td>18000</td>\n",
       "      <td>2</td>\n",
       "      <td>2</td>\n",
       "      <td>1</td>\n",
       "      <td>3</td>\n",
       "      <td>1056.00</td>\n",
       "      <td>265.0</td>\n",
       "      <td>1378.0</td>\n",
       "      <td>1978.0</td>\n",
       "      <td>603.0</td>\n",
       "    </tr>\n",
       "  </tbody>\n",
       "</table>\n",
       "<p>17976 rows × 18 columns</p>\n",
       "</div>"
      ],
      "text/plain": [
       "       credit_rating  income_level  offer_accepted  mailer_type  \\\n",
       "0                  2             2             0.0          0.0   \n",
       "1                  1             1             0.0          0.0   \n",
       "2                  1             2             0.0          1.0   \n",
       "3                  2             1             0.0          0.0   \n",
       "4                  1             1             0.0          0.0   \n",
       "...              ...           ...             ...          ...   \n",
       "17995              0             2             0.0          0.0   \n",
       "17996              0             2             0.0          0.0   \n",
       "17997              0             2             0.0          0.0   \n",
       "17998              1             1             0.0          0.0   \n",
       "17999              1             0             0.0          0.0   \n",
       "\n",
       "       overdraft_protection  own_your_home  reward_cash_back  reward_points  \\\n",
       "0                       0.0            0.0                 0              0   \n",
       "1                       0.0            1.0                 0              0   \n",
       "2                       0.0            1.0                 0              0   \n",
       "3                       0.0            0.0                 0              0   \n",
       "4                       0.0            1.0                 0              0   \n",
       "...                     ...            ...               ...            ...   \n",
       "17995                   0.0            1.0                 1              0   \n",
       "17996                   0.0            1.0                 1              0   \n",
       "17997                   0.0            0.0                 1              0   \n",
       "17998                   0.0            1.0                 1              0   \n",
       "17999                   0.0            0.0                 1              0   \n",
       "\n",
       "       customer_number  #_bank_accounts_open  #_credit_cards_held  \\\n",
       "0                    1                     1                    2   \n",
       "1                    2                     1                    2   \n",
       "2                    3                     2                    2   \n",
       "3                    4                     2                    1   \n",
       "4                    5                     1                    2   \n",
       "...                ...                   ...                  ...   \n",
       "17995            17996                     1                    1   \n",
       "17996            17997                     1                    3   \n",
       "17997            17998                     1                    2   \n",
       "17998            17999                     1                    4   \n",
       "17999            18000                     2                    2   \n",
       "\n",
       "       #_homes_owned  household_size  average_balance  q1_balance  q2_balance  \\\n",
       "0                  1               4          1160.75      1669.0       877.0   \n",
       "1                  2               5           147.25        39.0       106.0   \n",
       "2                  1               2           276.50       367.0       352.0   \n",
       "3                  1               4          1219.00      1578.0      1760.0   \n",
       "4                  1               6          1211.00      2140.0      1357.0   \n",
       "...              ...             ...              ...         ...         ...   \n",
       "17995              1               5           167.50       136.0        65.0   \n",
       "17996              1               3           850.50       984.0       940.0   \n",
       "17997              1               4          1087.25       918.0       767.0   \n",
       "17998              2               2          1022.25       626.0       983.0   \n",
       "17999              1               3          1056.00       265.0      1378.0   \n",
       "\n",
       "       q3_balance  q4_balance  \n",
       "0          1095.0      1002.0  \n",
       "1            78.0       366.0  \n",
       "2           145.0       242.0  \n",
       "3          1119.0       419.0  \n",
       "4           982.0       365.0  \n",
       "...           ...         ...  \n",
       "17995        71.0       398.0  \n",
       "17996       943.0       535.0  \n",
       "17997      1170.0      1494.0  \n",
       "17998       865.0      1615.0  \n",
       "17999      1978.0       603.0  \n",
       "\n",
       "[17976 rows x 18 columns]"
      ]
     },
     "execution_count": 43,
     "metadata": {},
     "output_type": "execute_result"
    }
   ],
   "source": [
    "dataframe = pd.concat([categorical_df, num_df], axis=1)\n",
    "dataframe"
   ]
  },
  {
   "cell_type": "markdown",
   "id": "9072fe2f-b55b-4f5b-a862-ec91896e2861",
   "metadata": {
    "tags": []
   },
   "source": [
    "### 4. Model"
   ]
  },
  {
   "cell_type": "code",
   "execution_count": 44,
   "id": "4435ac4a-14ea-4c5f-bb65-8d888b9aff02",
   "metadata": {},
   "outputs": [
    {
     "name": "stdout",
     "output_type": "stream",
     "text": [
      "(17976,) (17976, 17)\n"
     ]
    }
   ],
   "source": [
    "#Train test split\n",
    "\n",
    "y = dataframe.offer_accepted\n",
    "X = dataframe.drop(['offer_accepted'], axis=1)\n",
    "print(y.shape, X.shape)"
   ]
  },
  {
   "cell_type": "code",
   "execution_count": 45,
   "id": "dd86c036-af54-4d43-a207-789d2048fd87",
   "metadata": {},
   "outputs": [
    {
     "data": {
      "text/plain": [
       "((13482, 17), (4494, 17), (13482,), (4494,))"
      ]
     },
     "execution_count": 45,
     "metadata": {},
     "output_type": "execute_result"
    }
   ],
   "source": [
    "X_train, X_test, y_train, y_test = train_test_split(X,y, test_size=0.25, random_state=42)\n",
    "\n",
    "X_train.shape, X_test.shape, y_train.shape, y_test.shape"
   ]
  },
  {
   "cell_type": "code",
   "execution_count": 46,
   "id": "6fbd92be-6636-461d-81f1-913f439147e6",
   "metadata": {},
   "outputs": [
    {
     "data": {
      "text/html": [
       "<style>#sk-container-id-1 {color: black;background-color: white;}#sk-container-id-1 pre{padding: 0;}#sk-container-id-1 div.sk-toggleable {background-color: white;}#sk-container-id-1 label.sk-toggleable__label {cursor: pointer;display: block;width: 100%;margin-bottom: 0;padding: 0.3em;box-sizing: border-box;text-align: center;}#sk-container-id-1 label.sk-toggleable__label-arrow:before {content: \"▸\";float: left;margin-right: 0.25em;color: #696969;}#sk-container-id-1 label.sk-toggleable__label-arrow:hover:before {color: black;}#sk-container-id-1 div.sk-estimator:hover label.sk-toggleable__label-arrow:before {color: black;}#sk-container-id-1 div.sk-toggleable__content {max-height: 0;max-width: 0;overflow: hidden;text-align: left;background-color: #f0f8ff;}#sk-container-id-1 div.sk-toggleable__content pre {margin: 0.2em;color: black;border-radius: 0.25em;background-color: #f0f8ff;}#sk-container-id-1 input.sk-toggleable__control:checked~div.sk-toggleable__content {max-height: 200px;max-width: 100%;overflow: auto;}#sk-container-id-1 input.sk-toggleable__control:checked~label.sk-toggleable__label-arrow:before {content: \"▾\";}#sk-container-id-1 div.sk-estimator input.sk-toggleable__control:checked~label.sk-toggleable__label {background-color: #d4ebff;}#sk-container-id-1 div.sk-label input.sk-toggleable__control:checked~label.sk-toggleable__label {background-color: #d4ebff;}#sk-container-id-1 input.sk-hidden--visually {border: 0;clip: rect(1px 1px 1px 1px);clip: rect(1px, 1px, 1px, 1px);height: 1px;margin: -1px;overflow: hidden;padding: 0;position: absolute;width: 1px;}#sk-container-id-1 div.sk-estimator {font-family: monospace;background-color: #f0f8ff;border: 1px dotted black;border-radius: 0.25em;box-sizing: border-box;margin-bottom: 0.5em;}#sk-container-id-1 div.sk-estimator:hover {background-color: #d4ebff;}#sk-container-id-1 div.sk-parallel-item::after {content: \"\";width: 100%;border-bottom: 1px solid gray;flex-grow: 1;}#sk-container-id-1 div.sk-label:hover label.sk-toggleable__label {background-color: #d4ebff;}#sk-container-id-1 div.sk-serial::before {content: \"\";position: absolute;border-left: 1px solid gray;box-sizing: border-box;top: 0;bottom: 0;left: 50%;z-index: 0;}#sk-container-id-1 div.sk-serial {display: flex;flex-direction: column;align-items: center;background-color: white;padding-right: 0.2em;padding-left: 0.2em;position: relative;}#sk-container-id-1 div.sk-item {position: relative;z-index: 1;}#sk-container-id-1 div.sk-parallel {display: flex;align-items: stretch;justify-content: center;background-color: white;position: relative;}#sk-container-id-1 div.sk-item::before, #sk-container-id-1 div.sk-parallel-item::before {content: \"\";position: absolute;border-left: 1px solid gray;box-sizing: border-box;top: 0;bottom: 0;left: 50%;z-index: -1;}#sk-container-id-1 div.sk-parallel-item {display: flex;flex-direction: column;z-index: 1;position: relative;background-color: white;}#sk-container-id-1 div.sk-parallel-item:first-child::after {align-self: flex-end;width: 50%;}#sk-container-id-1 div.sk-parallel-item:last-child::after {align-self: flex-start;width: 50%;}#sk-container-id-1 div.sk-parallel-item:only-child::after {width: 0;}#sk-container-id-1 div.sk-dashed-wrapped {border: 1px dashed gray;margin: 0 0.4em 0.5em 0.4em;box-sizing: border-box;padding-bottom: 0.4em;background-color: white;}#sk-container-id-1 div.sk-label label {font-family: monospace;font-weight: bold;display: inline-block;line-height: 1.2em;}#sk-container-id-1 div.sk-label-container {text-align: center;}#sk-container-id-1 div.sk-container {/* jupyter's `normalize.less` sets `[hidden] { display: none; }` but bootstrap.min.css set `[hidden] { display: none !important; }` so we also need the `!important` here to be able to override the default hidden behavior on the sphinx rendered scikit-learn.org. See: https://github.com/scikit-learn/scikit-learn/issues/21755 */display: inline-block !important;position: relative;}#sk-container-id-1 div.sk-text-repr-fallback {display: none;}</style><div id=\"sk-container-id-1\" class=\"sk-top-container\"><div class=\"sk-text-repr-fallback\"><pre>LogisticRegression(random_state=0)</pre><b>In a Jupyter environment, please rerun this cell to show the HTML representation or trust the notebook. <br />On GitHub, the HTML representation is unable to render, please try loading this page with nbviewer.org.</b></div><div class=\"sk-container\" hidden><div class=\"sk-item\"><div class=\"sk-estimator sk-toggleable\"><input class=\"sk-toggleable__control sk-hidden--visually\" id=\"sk-estimator-id-1\" type=\"checkbox\" checked><label for=\"sk-estimator-id-1\" class=\"sk-toggleable__label sk-toggleable__label-arrow\">LogisticRegression</label><div class=\"sk-toggleable__content\"><pre>LogisticRegression(random_state=0)</pre></div></div></div></div></div>"
      ],
      "text/plain": [
       "LogisticRegression(random_state=0)"
      ]
     },
     "execution_count": 46,
     "metadata": {},
     "output_type": "execute_result"
    }
   ],
   "source": [
    "#Create and fit our regression model\n",
    "\n",
    "lr = LogisticRegression(random_state=0, solver='lbfgs')\n",
    "lr.fit(X_train, y_train)"
   ]
  },
  {
   "cell_type": "code",
   "execution_count": 47,
   "id": "9f4897b0-f61c-4afb-9646-f30e1b169612",
   "metadata": {},
   "outputs": [
    {
     "data": {
      "text/plain": [
       "array([0., 0., 0., ..., 0., 0., 0.])"
      ]
     },
     "execution_count": 47,
     "metadata": {},
     "output_type": "execute_result"
    }
   ],
   "source": [
    "#Make predictions for train\n",
    "y_train_pred = lr.predict(X_train)\n",
    "y_train_pred"
   ]
  },
  {
   "cell_type": "code",
   "execution_count": 48,
   "id": "2fb4a14f-68c2-4787-971c-f5ef34010e3f",
   "metadata": {},
   "outputs": [
    {
     "data": {
      "text/plain": [
       "array([0., 0., 0., ..., 0., 0., 0.])"
      ]
     },
     "execution_count": 48,
     "metadata": {},
     "output_type": "execute_result"
    }
   ],
   "source": [
    "#Make predictions for test\n",
    "y_pred_test = lr.predict(X_test)\n",
    "y_pred_test"
   ]
  },
  {
   "cell_type": "code",
   "execution_count": 49,
   "id": "f678a66e-b01e-4e85-90da-140d2f5bb5f1",
   "metadata": {},
   "outputs": [],
   "source": [
    "#Evaluation of the model with the confusion matrix"
   ]
  },
  {
   "cell_type": "code",
   "execution_count": 50,
   "id": "dfaf901a-e29a-47f5-a10d-9dc890546cef",
   "metadata": {},
   "outputs": [
    {
     "data": {
      "text/plain": [
       "array([[12714,     0],\n",
       "       [  768,     0]], dtype=int64)"
      ]
     },
     "execution_count": 50,
     "metadata": {},
     "output_type": "execute_result"
    }
   ],
   "source": [
    "cm_train = confusion_matrix(y_train, y_train_pred)\n",
    "cm_train"
   ]
  },
  {
   "cell_type": "code",
   "execution_count": 51,
   "id": "73ed93b4-bad9-46d1-942d-4356def1bd18",
   "metadata": {},
   "outputs": [
    {
     "data": {
      "image/png": "[encoded data removed]",
      "text/plain": [
       "<Figure size 640x480 with 2 Axes>"
      ]
     },
     "metadata": {},
     "output_type": "display_data"
    }
   ],
   "source": [
    "#Display confusion matrix for train data\n",
    "disp = ConfusionMatrixDisplay(cm_train, display_labels=lr.classes_)\n",
    "disp.plot()\n",
    "plt.show()"
   ]
  },
  {
   "cell_type": "code",
   "execution_count": 52,
   "id": "1c53ec18-f2d3-450a-a118-e2f20a414ae5",
   "metadata": {},
   "outputs": [
    {
     "data": {
      "image/png": "[encoded data removed]",
      "text/plain": [
       "<Figure size 640x480 with 2 Axes>"
      ]
     },
     "metadata": {},
     "output_type": "display_data"
    }
   ],
   "source": [
    "#Confusion matrix using seaborn and percentages for train data\n",
    "ax = sns.heatmap(cm_train/np.sum(cm_train), annot=True, fmt='.2%', cmap='Blues')\n",
    "ax.set(xlabel=\"Predicted label\", ylabel=\"True label\")\n",
    "plt.show()"
   ]
  },
  {
   "cell_type": "code",
   "execution_count": 53,
   "id": "46362542-5405-46f8-b8e3-da34517b2152",
   "metadata": {},
   "outputs": [
    {
     "data": {
      "image/png": "[encoded data removed]",
      "text/plain": [
       "<Figure size 640x480 with 2 Axes>"
      ]
     },
     "metadata": {},
     "output_type": "display_data"
    }
   ],
   "source": [
    "#Now for test\n",
    "cm_test = confusion_matrix(y_test, y_pred_test)\n",
    "disp = ConfusionMatrixDisplay(cm_test, display_labels=lr.classes_)\n",
    "disp.plot()\n",
    "plt.show()"
   ]
  },
  {
   "cell_type": "code",
   "execution_count": 54,
   "id": "efb54e8a-e088-45d8-905b-a5111c6f314c",
   "metadata": {},
   "outputs": [
    {
     "data": {
      "image/png": "[encoded data removed]",
      "text/plain": [
       "<Figure size 640x480 with 2 Axes>"
      ]
     },
     "metadata": {},
     "output_type": "display_data"
    }
   ],
   "source": [
    "#Confusion matrix using seaborn and percentages for train data\n",
    "ax = sns.heatmap(cm_test/np.sum(cm_test), annot=True, fmt='.2%', cmap='Blues')\n",
    "ax.set(xlabel=\"Predicted label\", ylabel=\"True label\")\n",
    "plt.show()"
   ]
  },
  {
   "cell_type": "code",
   "execution_count": 55,
   "id": "46150af0-877c-462c-b617-e6a09f1d071b",
   "metadata": {},
   "outputs": [
    {
     "name": "stdout",
     "output_type": "stream",
     "text": [
      "The accuracy of the model in the TRAIN set is: 0.94\n",
      "The accuracy of the model in the TEST set is: 0.94\n"
     ]
    }
   ],
   "source": [
    "print(\"The accuracy of the model in the TRAIN set is: {:.2f}\".format(lr.score(X_train, y_train)))\n",
    "print(\"The accuracy of the model in the TEST set is: {:.2f}\".format(lr.score(X_test, y_test)))"
   ]
  },
  {
   "cell_type": "raw",
   "id": "7141dbda-3b3e-4a53-a37c-b15233ecb951",
   "metadata": {},
   "source": [
    "When calculating only the accuracy score of the model, it indicates that it is very good with 94%. \n",
    "However due to the imbalance of data, it is not correct to only observe this score."
   ]
  },
  {
   "cell_type": "raw",
   "id": "ba28c5c7-b42c-4015-aa8c-cc204c64e8d8",
   "metadata": {
    "jp-MarkdownHeadingCollapsed": true,
    "tags": []
   },
   "source": [
    "Choose your type of error\n",
    "Type I error\": False Positives (FP): we incorrectly predict that customers accept the offer.\n",
    "Type II error\": False Negatives (FN): we incorrectly predict that customers don´t accept the offer. \n",
    "\n",
    "In this case, we want to minimize Type II error, because predicting that a client will reject the offer, \n",
    "when he does accept it, can lead to a decrease in sales."
   ]
  },
  {
   "cell_type": "markdown",
   "id": "000e855f-4d00-48c0-8211-5a47bec7e6a8",
   "metadata": {
    "tags": []
   },
   "source": [
    "### 5. Imbalance and metrics"
   ]
  },
  {
   "cell_type": "markdown",
   "id": "4f991591-0100-43e4-b719-3e07f0ec280a",
   "metadata": {
    "jp-MarkdownHeadingCollapsed": true,
    "tags": []
   },
   "source": [
    "##### 5.1 Class imbalance (CI) and proportion"
   ]
  },
  {
   "cell_type": "raw",
   "id": "8e2648ff-2eba-40c3-832d-782c97d42b87",
   "metadata": {},
   "source": [
    "Proportion of the minority class compared to the total number of rows:\n",
    "\n",
    "Low imbalance: 20-40%\n",
    "\n",
    "Mid imbalance: 10-15%\n",
    "\n",
    "Extreme imbalance: <10%"
   ]
  },
  {
   "cell_type": "code",
   "execution_count": 56,
   "id": "d2c904df-3f0c-4308-ab06-5d7764912ede",
   "metadata": {},
   "outputs": [
    {
     "name": "stdout",
     "output_type": "stream",
     "text": [
      "16955 1021\n",
      "--------\n",
      "17976\n"
     ]
    }
   ],
   "source": [
    "count_classes = dataframe['offer_accepted'].value_counts()\n",
    "print(count_classes[0], count_classes[1])\n",
    "print('--------')\n",
    "print(dataframe.shape[0])"
   ]
  },
  {
   "cell_type": "code",
   "execution_count": 57,
   "id": "f91d4c5a-ffed-45df-aa5b-350850948b3d",
   "metadata": {},
   "outputs": [
    {
     "data": {
      "text/plain": [
       "0.8864040943480196"
      ]
     },
     "execution_count": 57,
     "metadata": {},
     "output_type": "execute_result"
    }
   ],
   "source": [
    "(count_classes[0]-count_classes[1]) / (count_classes[0]+count_classes[1])"
   ]
  },
  {
   "cell_type": "code",
   "execution_count": 58,
   "id": "22238222-63a7-4653-a186-7c0cbc0d17ce",
   "metadata": {},
   "outputs": [
    {
     "data": {
      "text/plain": [
       "1021.0602182247125"
      ]
     },
     "execution_count": 58,
     "metadata": {},
     "output_type": "execute_result"
    }
   ],
   "source": [
    "count_classes[1] / count_classes[0]+count_classes[1]"
   ]
  },
  {
   "cell_type": "code",
   "execution_count": 59,
   "id": "1b9f8c7b-73de-4a35-a1c0-3774762862ad",
   "metadata": {},
   "outputs": [],
   "source": [
    "# 94% of the sample is 0 (customer reject the offer) and 6% is 1 (customer accept the offer)"
   ]
  },
  {
   "cell_type": "raw",
   "id": "2c8a846a-afe4-4085-b361-f545a740525e",
   "metadata": {},
   "source": [
    "The CI is close to one, since class[0] has more occurrences than class[1].\n",
    "\n",
    "In addition, we have an extreme imbalance, because the minority class or class[1], represents less than 10% of the total."
   ]
  },
  {
   "cell_type": "markdown",
   "id": "71644db5-fa55-450e-83da-8ba1fde2de28",
   "metadata": {
    "jp-MarkdownHeadingCollapsed": true,
    "tags": []
   },
   "source": [
    "##### 5.2 Metrics \n",
    "\n",
    "TP.- True postive  \n",
    "TN.- True negative  \n",
    "FP.- False positive  \n",
    "FN.- False negative  \n",
    "\n",
    "- Accuracy score = (TP + TN)/(TP + TN + FP + FN) \n",
    "- Precision score = TP/(TP + FP)\n",
    "- Recall or sensivity score = TP / (TP + FN)\n",
    "- F1 score = 2*((precision*recall)/(precision+recall))"
   ]
  },
  {
   "cell_type": "code",
   "execution_count": 60,
   "id": "bc35f8ef-d596-428f-8a58-619dd2181c79",
   "metadata": {},
   "outputs": [
    {
     "name": "stdout",
     "output_type": "stream",
     "text": [
      "The accuracy in the TEST set is: 0.94\n",
      "The precision in the TEST set is: 0.00\n",
      "The recall in the TEST set is: 0.00\n",
      "The F1 in the TEST set is: 0.00\n",
      "The Kappa in the TEST set is: 0.00\n"
     ]
    },
    {
     "name": "stderr",
     "output_type": "stream",
     "text": [
      "C:\\Users\\Daniel Castañeda\\anaconda3\\lib\\site-packages\\sklearn\\metrics\\_classification.py:1344: UndefinedMetricWarning: Precision is ill-defined and being set to 0.0 due to no predicted samples. Use `zero_division` parameter to control this behavior.\n",
      "  _warn_prf(average, modifier, msg_start, len(result))\n"
     ]
    }
   ],
   "source": [
    "print(\"The accuracy in the TEST set is: {:.2f}\".format(accuracy_score(y_test,y_pred_test)))\n",
    "print(\"The precision in the TEST set is: {:.2f}\".format(precision_score(y_test,y_pred_test)))\n",
    "print(\"The recall in the TEST set is: {:.2f}\".format(recall_score(y_test,y_pred_test)))\n",
    "print(\"The F1 in the TEST set is: {:.2f}\".format(f1_score(y_test,y_pred_test)))\n",
    "print(\"The Kappa in the TEST set is: {:.2f}\".format(cohen_kappa_score(y_test,y_pred_test)))"
   ]
  },
  {
   "cell_type": "markdown",
   "id": "4dfdf5b7-00fa-4466-8afa-a1e90994a39b",
   "metadata": {
    "tags": []
   },
   "source": [
    "##### 5.3 Oversampling the minority class\n",
    "\n",
    "Any resampling (oversampling, undersampling, SMOTE) is only to be done on the TRAINING set   \n",
    "**Our test set still must reflect reality (which has imbalance)!**"
   ]
  },
  {
   "cell_type": "code",
   "execution_count": 61,
   "id": "ac371986-336f-4a47-aff7-e3eb65b8676a",
   "metadata": {},
   "outputs": [
    {
     "data": {
      "text/plain": [
       "(12714,)"
      ]
     },
     "execution_count": 61,
     "metadata": {},
     "output_type": "execute_result"
    }
   ],
   "source": [
    "y_train[y_train== 0].shape"
   ]
  },
  {
   "cell_type": "code",
   "execution_count": 62,
   "id": "59bf7276-50bc-4e87-bc4f-0b0d8bea8221",
   "metadata": {},
   "outputs": [
    {
     "data": {
      "text/plain": [
       "0.0    12714\n",
       "1.0      768\n",
       "Name: offer_accepted, dtype: int64"
      ]
     },
     "execution_count": 62,
     "metadata": {},
     "output_type": "execute_result"
    }
   ],
   "source": [
    "y_train.value_counts()"
   ]
  },
  {
   "cell_type": "code",
   "execution_count": 63,
   "id": "72cc862e-3134-4e96-8cda-db872c71cf9c",
   "metadata": {},
   "outputs": [
    {
     "data": {
      "text/html": [
       "<style>#sk-container-id-2 {color: black;background-color: white;}#sk-container-id-2 pre{padding: 0;}#sk-container-id-2 div.sk-toggleable {background-color: white;}#sk-container-id-2 label.sk-toggleable__label {cursor: pointer;display: block;width: 100%;margin-bottom: 0;padding: 0.3em;box-sizing: border-box;text-align: center;}#sk-container-id-2 label.sk-toggleable__label-arrow:before {content: \"▸\";float: left;margin-right: 0.25em;color: #696969;}#sk-container-id-2 label.sk-toggleable__label-arrow:hover:before {color: black;}#sk-container-id-2 div.sk-estimator:hover label.sk-toggleable__label-arrow:before {color: black;}#sk-container-id-2 div.sk-toggleable__content {max-height: 0;max-width: 0;overflow: hidden;text-align: left;background-color: #f0f8ff;}#sk-container-id-2 div.sk-toggleable__content pre {margin: 0.2em;color: black;border-radius: 0.25em;background-color: #f0f8ff;}#sk-container-id-2 input.sk-toggleable__control:checked~div.sk-toggleable__content {max-height: 200px;max-width: 100%;overflow: auto;}#sk-container-id-2 input.sk-toggleable__control:checked~label.sk-toggleable__label-arrow:before {content: \"▾\";}#sk-container-id-2 div.sk-estimator input.sk-toggleable__control:checked~label.sk-toggleable__label {background-color: #d4ebff;}#sk-container-id-2 div.sk-label input.sk-toggleable__control:checked~label.sk-toggleable__label {background-color: #d4ebff;}#sk-container-id-2 input.sk-hidden--visually {border: 0;clip: rect(1px 1px 1px 1px);clip: rect(1px, 1px, 1px, 1px);height: 1px;margin: -1px;overflow: hidden;padding: 0;position: absolute;width: 1px;}#sk-container-id-2 div.sk-estimator {font-family: monospace;background-color: #f0f8ff;border: 1px dotted black;border-radius: 0.25em;box-sizing: border-box;margin-bottom: 0.5em;}#sk-container-id-2 div.sk-estimator:hover {background-color: #d4ebff;}#sk-container-id-2 div.sk-parallel-item::after {content: \"\";width: 100%;border-bottom: 1px solid gray;flex-grow: 1;}#sk-container-id-2 div.sk-label:hover label.sk-toggleable__label {background-color: #d4ebff;}#sk-container-id-2 div.sk-serial::before {content: \"\";position: absolute;border-left: 1px solid gray;box-sizing: border-box;top: 0;bottom: 0;left: 50%;z-index: 0;}#sk-container-id-2 div.sk-serial {display: flex;flex-direction: column;align-items: center;background-color: white;padding-right: 0.2em;padding-left: 0.2em;position: relative;}#sk-container-id-2 div.sk-item {position: relative;z-index: 1;}#sk-container-id-2 div.sk-parallel {display: flex;align-items: stretch;justify-content: center;background-color: white;position: relative;}#sk-container-id-2 div.sk-item::before, #sk-container-id-2 div.sk-parallel-item::before {content: \"\";position: absolute;border-left: 1px solid gray;box-sizing: border-box;top: 0;bottom: 0;left: 50%;z-index: -1;}#sk-container-id-2 div.sk-parallel-item {display: flex;flex-direction: column;z-index: 1;position: relative;background-color: white;}#sk-container-id-2 div.sk-parallel-item:first-child::after {align-self: flex-end;width: 50%;}#sk-container-id-2 div.sk-parallel-item:last-child::after {align-self: flex-start;width: 50%;}#sk-container-id-2 div.sk-parallel-item:only-child::after {width: 0;}#sk-container-id-2 div.sk-dashed-wrapped {border: 1px dashed gray;margin: 0 0.4em 0.5em 0.4em;box-sizing: border-box;padding-bottom: 0.4em;background-color: white;}#sk-container-id-2 div.sk-label label {font-family: monospace;font-weight: bold;display: inline-block;line-height: 1.2em;}#sk-container-id-2 div.sk-label-container {text-align: center;}#sk-container-id-2 div.sk-container {/* jupyter's `normalize.less` sets `[hidden] { display: none; }` but bootstrap.min.css set `[hidden] { display: none !important; }` so we also need the `!important` here to be able to override the default hidden behavior on the sphinx rendered scikit-learn.org. See: https://github.com/scikit-learn/scikit-learn/issues/21755 */display: inline-block !important;position: relative;}#sk-container-id-2 div.sk-text-repr-fallback {display: none;}</style><div id=\"sk-container-id-2\" class=\"sk-top-container\"><div class=\"sk-text-repr-fallback\"><pre>RandomOverSampler(random_state=42)</pre><b>In a Jupyter environment, please rerun this cell to show the HTML representation or trust the notebook. <br />On GitHub, the HTML representation is unable to render, please try loading this page with nbviewer.org.</b></div><div class=\"sk-container\" hidden><div class=\"sk-item\"><div class=\"sk-estimator sk-toggleable\"><input class=\"sk-toggleable__control sk-hidden--visually\" id=\"sk-estimator-id-2\" type=\"checkbox\" checked><label for=\"sk-estimator-id-2\" class=\"sk-toggleable__label sk-toggleable__label-arrow\">RandomOverSampler</label><div class=\"sk-toggleable__content\"><pre>RandomOverSampler(random_state=42)</pre></div></div></div></div></div>"
      ],
      "text/plain": [
       "RandomOverSampler(random_state=42)"
      ]
     },
     "execution_count": 63,
     "metadata": {},
     "output_type": "execute_result"
    }
   ],
   "source": [
    "ros = RandomOverSampler(random_state=42)\n",
    "ros"
   ]
  },
  {
   "cell_type": "code",
   "execution_count": 64,
   "id": "5be3927d-5d2c-491a-a141-1e8bc1cd890e",
   "metadata": {},
   "outputs": [
    {
     "data": {
      "text/plain": [
       "0.0    12714\n",
       "1.0    12714\n",
       "Name: offer_accepted, dtype: int64"
      ]
     },
     "execution_count": 64,
     "metadata": {},
     "output_type": "execute_result"
    }
   ],
   "source": [
    "X_train_over, y_train_over = ros.fit_resample(X_train,y_train)\n",
    "y_train_over.value_counts()"
   ]
  },
  {
   "cell_type": "code",
   "execution_count": 65,
   "id": "411d0f03-81f4-4dac-9f05-ba0005f6818e",
   "metadata": {},
   "outputs": [
    {
     "name": "stdout",
     "output_type": "stream",
     "text": [
      "The accuracy in the TEST set is: 0.67\n",
      "The precision in the TEST set is: 0.12\n",
      "The recall in the TEST set is: 0.73\n",
      "The F1 in the TEST set is: 0.20\n",
      "The Kappa in the TEST set is: 0.11\n"
     ]
    }
   ],
   "source": [
    "lr = LogisticRegression(max_iter=2000)\n",
    "lr.fit(X_train_over, y_train_over)\n",
    "y_pred_test = lr.predict(X_test)\n",
    "\n",
    "print(\"The accuracy in the TEST set is: {:.2f}\".format(accuracy_score(y_test,y_pred_test)))\n",
    "print(\"The precision in the TEST set is: {:.2f}\".format(precision_score(y_test,y_pred_test)))\n",
    "print(\"The recall in the TEST set is: {:.2f}\".format(recall_score(y_test,y_pred_test)))\n",
    "print(\"The F1 in the TEST set is: {:.2f}\".format(f1_score(y_test,y_pred_test)))\n",
    "print(\"The Kappa in the TEST set is: {:.2f}\".format(cohen_kappa_score(y_test,y_pred_test)))"
   ]
  },
  {
   "cell_type": "code",
   "execution_count": 66,
   "id": "43e5a37c-bfca-441a-a785-a1709a1ffd43",
   "metadata": {},
   "outputs": [
    {
     "data": {
      "image/png": "[encoded data removed]",
      "text/plain": [
       "<Figure size 640x480 with 2 Axes>"
      ]
     },
     "metadata": {},
     "output_type": "display_data"
    }
   ],
   "source": [
    "cm_test = confusion_matrix(y_test,y_pred_test)\n",
    "disp = ConfusionMatrixDisplay(confusion_matrix=cm_test, display_labels=lr.classes_)\n",
    "disp.plot()\n",
    "plt.show()"
   ]
  },
  {
   "cell_type": "code",
   "execution_count": 67,
   "id": "ecc9f0e2-c043-4250-86f6-d85a75a26b98",
   "metadata": {},
   "outputs": [
    {
     "data": {
      "image/png": "[encoded data removed]",
      "text/plain": [
       "<Figure size 640x480 with 2 Axes>"
      ]
     },
     "metadata": {},
     "output_type": "display_data"
    }
   ],
   "source": [
    "ax = sns.heatmap(cm_test/np.sum(cm_test), annot=True, fmt='.2%', cmap='Blues')\n",
    "ax.set(xlabel=\"Predicted label\", ylabel=\"True label\")\n",
    "plt.show()"
   ]
  },
  {
   "cell_type": "markdown",
   "id": "6226dcfd-5648-448f-a3e5-4286c181c6c2",
   "metadata": {
    "tags": []
   },
   "source": [
    "##### 5.4 Undersampling the majority class"
   ]
  },
  {
   "cell_type": "code",
   "execution_count": 68,
   "id": "2fc5a115-4b19-4eb2-932c-bf5cc6389422",
   "metadata": {},
   "outputs": [
    {
     "data": {
      "text/plain": [
       "(768,)"
      ]
     },
     "execution_count": 68,
     "metadata": {},
     "output_type": "execute_result"
    }
   ],
   "source": [
    "y_train[y_train== 1].shape"
   ]
  },
  {
   "cell_type": "code",
   "execution_count": 69,
   "id": "e7f4717b-f862-4ed7-b898-8d65493b1b43",
   "metadata": {},
   "outputs": [
    {
     "data": {
      "text/plain": [
       "0.0    12714\n",
       "1.0      768\n",
       "Name: offer_accepted, dtype: int64"
      ]
     },
     "execution_count": 69,
     "metadata": {},
     "output_type": "execute_result"
    }
   ],
   "source": [
    "y_train.value_counts()"
   ]
  },
  {
   "cell_type": "code",
   "execution_count": 70,
   "id": "2f85b49a-ff32-4e5a-a41e-dd17fd7386df",
   "metadata": {},
   "outputs": [
    {
     "data": {
      "text/plain": [
       "0.0    768\n",
       "1.0    768\n",
       "Name: offer_accepted, dtype: int64"
      ]
     },
     "execution_count": 70,
     "metadata": {},
     "output_type": "execute_result"
    }
   ],
   "source": [
    "rus = RandomUnderSampler(random_state=42)\n",
    "\n",
    "X_train_under, y_train_under = rus.fit_resample(X_train, y_train)\n",
    "y_train_under.value_counts()"
   ]
  },
  {
   "cell_type": "code",
   "execution_count": 71,
   "id": "fdeb48a7-4425-446f-849c-2bc711a84b89",
   "metadata": {},
   "outputs": [
    {
     "name": "stdout",
     "output_type": "stream",
     "text": [
      "The accuracy in the TEST set is: 0.67\n",
      "The precision in the TEST set is: 0.11\n",
      "The recall in the TEST set is: 0.72\n",
      "The F1 in the TEST set is: 0.20\n",
      "The Kappa in the TEST set is: 0.11\n"
     ]
    }
   ],
   "source": [
    "lr = LogisticRegression(max_iter=2000)\n",
    "lr.fit(X_train_under, y_train_under)\n",
    "y_pred_test = lr.predict(X_test)\n",
    "\n",
    "print(\"The accuracy in the TEST set is: {:.2f}\".format(accuracy_score(y_test,y_pred_test)))\n",
    "print(\"The precision in the TEST set is: {:.2f}\".format(precision_score(y_test,y_pred_test)))\n",
    "print(\"The recall in the TEST set is: {:.2f}\".format(recall_score(y_test,y_pred_test)))\n",
    "print(\"The F1 in the TEST set is: {:.2f}\".format(f1_score(y_test,y_pred_test)))\n",
    "print(\"The Kappa in the TEST set is: {:.2f}\".format(cohen_kappa_score(y_test,y_pred_test)))"
   ]
  },
  {
   "cell_type": "code",
   "execution_count": 72,
   "id": "e1875809-1d9f-4e5c-94d1-5c222c387df0",
   "metadata": {},
   "outputs": [
    {
     "data": {
      "image/png": "[encoded data removed]",
      "text/plain": [
       "<Figure size 640x480 with 2 Axes>"
      ]
     },
     "metadata": {},
     "output_type": "display_data"
    }
   ],
   "source": [
    "cm_test = confusion_matrix(y_test,y_pred_test)\n",
    "disp = ConfusionMatrixDisplay(confusion_matrix=cm_test, display_labels=lr.classes_)\n",
    "disp.plot()\n",
    "plt.show()"
   ]
  },
  {
   "cell_type": "code",
   "execution_count": 73,
   "id": "82bd4af9-7f40-4e56-9ec5-d8e80dd28ade",
   "metadata": {},
   "outputs": [
    {
     "data": {
      "image/png": "[encoded data removed]",
      "text/plain": [
       "<Figure size 640x480 with 2 Axes>"
      ]
     },
     "metadata": {},
     "output_type": "display_data"
    }
   ],
   "source": [
    "ax = sns.heatmap(cm_test/np.sum(cm_test), annot=True, fmt='.2%', cmap='Blues')\n",
    "ax.set(xlabel=\"Predicted label\", ylabel=\"True label\")\n",
    "plt.show()"
   ]
  },
  {
   "cell_type": "markdown",
   "id": "85021b90-e947-4505-b972-6c47bfc2e934",
   "metadata": {
    "tags": []
   },
   "source": [
    "##### 5.5 Synthetic Minority Over-sampling Technique (SMOTE)\n",
    "\n",
    "Increases the number of instances in the minority class by generating synthetic examples."
   ]
  },
  {
   "cell_type": "code",
   "execution_count": 74,
   "id": "01da972b-2f71-4d35-ab33-33c9a5f4fad6",
   "metadata": {},
   "outputs": [],
   "source": [
    "sm = SMOTE(random_state=100, k_neighbors=5)\n",
    "\n",
    "X_train_SMOTE, y_train_SMOTE = sm.fit_resample(X_train, y_train)"
   ]
  },
  {
   "cell_type": "code",
   "execution_count": 75,
   "id": "5b00bdb8-be68-4d6f-9c29-30a5dcc0b9dd",
   "metadata": {},
   "outputs": [
    {
     "data": {
      "text/plain": [
       "0.0    12714\n",
       "1.0    12714\n",
       "Name: offer_accepted, dtype: int64"
      ]
     },
     "execution_count": 75,
     "metadata": {},
     "output_type": "execute_result"
    }
   ],
   "source": [
    "y_train_SMOTE.value_counts()"
   ]
  },
  {
   "cell_type": "code",
   "execution_count": 76,
   "id": "acef3d6f-8aba-432e-9453-661aaacbfedf",
   "metadata": {},
   "outputs": [
    {
     "name": "stdout",
     "output_type": "stream",
     "text": [
      "model with SMOTE\n",
      "The accuracy in the TEST set is: 0.81\n",
      "The precision in the TEST set is: 0.14\n",
      "The recall in the TEST set is: 0.45\n",
      "The F1 in the TEST set is: 0.21\n",
      "The Kappa in the TEST set is: 0.14\n"
     ]
    }
   ],
   "source": [
    "lr = LogisticRegression(max_iter=2000)\n",
    "lr.fit(X_train_SMOTE, y_train_SMOTE)\n",
    "y_pred_test = lr.predict(X_test)\n",
    "\n",
    "print(\"model with SMOTE\")\n",
    "print(\"The accuracy in the TEST set is: {:.2f}\".format(accuracy_score(y_test,y_pred_test)))\n",
    "print(\"The precision in the TEST set is: {:.2f}\".format(precision_score(y_test,y_pred_test)))\n",
    "print(\"The recall in the TEST set is: {:.2f}\".format(recall_score(y_test,y_pred_test)))\n",
    "print(\"The F1 in the TEST set is: {:.2f}\".format(f1_score(y_test,y_pred_test)))\n",
    "print(\"The Kappa in the TEST set is: {:.2f}\".format(cohen_kappa_score(y_test,y_pred_test)))"
   ]
  },
  {
   "cell_type": "code",
   "execution_count": 77,
   "id": "452cdd97-5603-4f58-baa5-cbace45ea16d",
   "metadata": {},
   "outputs": [
    {
     "data": {
      "image/png": "[encoded data removed]",
      "text/plain": [
       "<Figure size 640x480 with 2 Axes>"
      ]
     },
     "metadata": {},
     "output_type": "display_data"
    }
   ],
   "source": [
    "cm_test = confusion_matrix(y_test,y_pred_test)\n",
    "disp = ConfusionMatrixDisplay(confusion_matrix=cm_test, display_labels=lr.classes_)\n",
    "disp.plot()\n",
    "plt.show()"
   ]
  },
  {
   "cell_type": "code",
   "execution_count": 78,
   "id": "5b0f2ae2-60b2-4951-8e72-c7ba015b1516",
   "metadata": {},
   "outputs": [
    {
     "data": {
      "image/png": "[encoded data removed]",
      "text/plain": [
       "<Figure size 640x480 with 2 Axes>"
      ]
     },
     "metadata": {},
     "output_type": "display_data"
    }
   ],
   "source": [
    "ax = sns.heatmap(cm_test/np.sum(cm_test), annot=True, fmt='.2%', cmap='Blues')\n",
    "ax.set(xlabel=\"Predicted label\", ylabel=\"True label\")\n",
    "plt.show()"
   ]
  },
  {
   "cell_type": "raw",
   "id": "85e6ccb8-e40e-478e-b272-69ad5d1f6382",
   "metadata": {},
   "source": [
    "model with SMOTE\n",
    "The accuracy in the TEST set is: 0.81\n",
    "The precision in the TEST set is: 0.14\n",
    "The recall in the TEST set is: 0.45\n",
    "The F1 in the TEST set is: 0.21\n",
    "The Kappa in the TEST set is: 0.14\n",
    "\n",
    "model with oversampling\n",
    "\n",
    "The accuracy in the TEST set is: 0.67\n",
    "The precision in the TEST set is: 0.12\n",
    "The recall in the TEST set is: 0.73\n",
    "The F1 in the TEST set is: 0.20\n",
    "The Kappa in the TEST set is: 0.11\n",
    "\n",
    "model with undersampling\n",
    "\n",
    "The accuracy in the TEST set is: 0.67\n",
    "The precision in the TEST set is: 0.11\n",
    "The recall in the TEST set is: 0.72\n",
    "The F1 in the TEST set is: 0.20\n",
    "The Kappa in the TEST set is: 0.11"
   ]
  },
  {
   "cell_type": "raw",
   "id": "8c3b0495-5e87-471f-b676-59ce65f9a15c",
   "metadata": {},
   "source": [
    "The SMOTE approach seems to be more effective, as it has a higher precision (0.14) compared to the other two approaches (0.12 and 0.11). Likewise, it has a higher accuracy (0.81) compared to the others that have the same value (0.67)\n",
    "\n",
    "However, considering the detection of positive instances and minimizing false negatives, both the oversampled model and the undersampled model show better performance in terms of recall.\n",
    "\n",
    "Finally, considering the balance between precision and recall, as well as the other metrics, the oversampled model seems to be a more favorable option, since it has high recall and overall performance."
   ]
  },
  {
   "cell_type": "markdown",
   "id": "638af5b1-9ff0-498e-b98f-08584b39f418",
   "metadata": {
    "tags": []
   },
   "source": [
    "### 6. Improving the model"
   ]
  },
  {
   "cell_type": "code",
   "execution_count": 79,
   "id": "ab764b91-95b5-42fe-a61a-2e397090346a",
   "metadata": {},
   "outputs": [
    {
     "data": {
      "text/html": [
       "<div>\n",
       "<style scoped>\n",
       "    .dataframe tbody tr th:only-of-type {\n",
       "        vertical-align: middle;\n",
       "    }\n",
       "\n",
       "    .dataframe tbody tr th {\n",
       "        vertical-align: top;\n",
       "    }\n",
       "\n",
       "    .dataframe thead th {\n",
       "        text-align: right;\n",
       "    }\n",
       "</style>\n",
       "<table border=\"1\" class=\"dataframe\">\n",
       "  <thead>\n",
       "    <tr style=\"text-align: right;\">\n",
       "      <th></th>\n",
       "      <th>credit_rating</th>\n",
       "      <th>income_level</th>\n",
       "      <th>offer_accepted</th>\n",
       "      <th>mailer_type</th>\n",
       "      <th>overdraft_protection</th>\n",
       "      <th>own_your_home</th>\n",
       "      <th>reward_cash_back</th>\n",
       "      <th>reward_points</th>\n",
       "      <th>customer_number</th>\n",
       "      <th>#_bank_accounts_open</th>\n",
       "      <th>#_credit_cards_held</th>\n",
       "      <th>#_homes_owned</th>\n",
       "      <th>household_size</th>\n",
       "      <th>average_balance</th>\n",
       "      <th>q1_balance</th>\n",
       "      <th>q2_balance</th>\n",
       "      <th>q3_balance</th>\n",
       "      <th>q4_balance</th>\n",
       "    </tr>\n",
       "  </thead>\n",
       "  <tbody>\n",
       "    <tr>\n",
       "      <th>0</th>\n",
       "      <td>2</td>\n",
       "      <td>2</td>\n",
       "      <td>0.0</td>\n",
       "      <td>0.0</td>\n",
       "      <td>0.0</td>\n",
       "      <td>0.0</td>\n",
       "      <td>0</td>\n",
       "      <td>0</td>\n",
       "      <td>1</td>\n",
       "      <td>1</td>\n",
       "      <td>2</td>\n",
       "      <td>1</td>\n",
       "      <td>4</td>\n",
       "      <td>1160.75</td>\n",
       "      <td>1669.0</td>\n",
       "      <td>877.0</td>\n",
       "      <td>1095.0</td>\n",
       "      <td>1002.0</td>\n",
       "    </tr>\n",
       "    <tr>\n",
       "      <th>1</th>\n",
       "      <td>1</td>\n",
       "      <td>1</td>\n",
       "      <td>0.0</td>\n",
       "      <td>0.0</td>\n",
       "      <td>0.0</td>\n",
       "      <td>1.0</td>\n",
       "      <td>0</td>\n",
       "      <td>0</td>\n",
       "      <td>2</td>\n",
       "      <td>1</td>\n",
       "      <td>2</td>\n",
       "      <td>2</td>\n",
       "      <td>5</td>\n",
       "      <td>147.25</td>\n",
       "      <td>39.0</td>\n",
       "      <td>106.0</td>\n",
       "      <td>78.0</td>\n",
       "      <td>366.0</td>\n",
       "    </tr>\n",
       "    <tr>\n",
       "      <th>2</th>\n",
       "      <td>1</td>\n",
       "      <td>2</td>\n",
       "      <td>0.0</td>\n",
       "      <td>1.0</td>\n",
       "      <td>0.0</td>\n",
       "      <td>1.0</td>\n",
       "      <td>0</td>\n",
       "      <td>0</td>\n",
       "      <td>3</td>\n",
       "      <td>2</td>\n",
       "      <td>2</td>\n",
       "      <td>1</td>\n",
       "      <td>2</td>\n",
       "      <td>276.50</td>\n",
       "      <td>367.0</td>\n",
       "      <td>352.0</td>\n",
       "      <td>145.0</td>\n",
       "      <td>242.0</td>\n",
       "    </tr>\n",
       "    <tr>\n",
       "      <th>3</th>\n",
       "      <td>2</td>\n",
       "      <td>1</td>\n",
       "      <td>0.0</td>\n",
       "      <td>0.0</td>\n",
       "      <td>0.0</td>\n",
       "      <td>0.0</td>\n",
       "      <td>0</td>\n",
       "      <td>0</td>\n",
       "      <td>4</td>\n",
       "      <td>2</td>\n",
       "      <td>1</td>\n",
       "      <td>1</td>\n",
       "      <td>4</td>\n",
       "      <td>1219.00</td>\n",
       "      <td>1578.0</td>\n",
       "      <td>1760.0</td>\n",
       "      <td>1119.0</td>\n",
       "      <td>419.0</td>\n",
       "    </tr>\n",
       "    <tr>\n",
       "      <th>4</th>\n",
       "      <td>1</td>\n",
       "      <td>1</td>\n",
       "      <td>0.0</td>\n",
       "      <td>0.0</td>\n",
       "      <td>0.0</td>\n",
       "      <td>1.0</td>\n",
       "      <td>0</td>\n",
       "      <td>0</td>\n",
       "      <td>5</td>\n",
       "      <td>1</td>\n",
       "      <td>2</td>\n",
       "      <td>1</td>\n",
       "      <td>6</td>\n",
       "      <td>1211.00</td>\n",
       "      <td>2140.0</td>\n",
       "      <td>1357.0</td>\n",
       "      <td>982.0</td>\n",
       "      <td>365.0</td>\n",
       "    </tr>\n",
       "  </tbody>\n",
       "</table>\n",
       "</div>"
      ],
      "text/plain": [
       "   credit_rating  income_level  offer_accepted  mailer_type  \\\n",
       "0              2             2             0.0          0.0   \n",
       "1              1             1             0.0          0.0   \n",
       "2              1             2             0.0          1.0   \n",
       "3              2             1             0.0          0.0   \n",
       "4              1             1             0.0          0.0   \n",
       "\n",
       "   overdraft_protection  own_your_home  reward_cash_back  reward_points  \\\n",
       "0                   0.0            0.0                 0              0   \n",
       "1                   0.0            1.0                 0              0   \n",
       "2                   0.0            1.0                 0              0   \n",
       "3                   0.0            0.0                 0              0   \n",
       "4                   0.0            1.0                 0              0   \n",
       "\n",
       "   customer_number  #_bank_accounts_open  #_credit_cards_held  #_homes_owned  \\\n",
       "0                1                     1                    2              1   \n",
       "1                2                     1                    2              2   \n",
       "2                3                     2                    2              1   \n",
       "3                4                     2                    1              1   \n",
       "4                5                     1                    2              1   \n",
       "\n",
       "   household_size  average_balance  q1_balance  q2_balance  q3_balance  \\\n",
       "0               4          1160.75      1669.0       877.0      1095.0   \n",
       "1               5           147.25        39.0       106.0        78.0   \n",
       "2               2           276.50       367.0       352.0       145.0   \n",
       "3               4          1219.00      1578.0      1760.0      1119.0   \n",
       "4               6          1211.00      2140.0      1357.0       982.0   \n",
       "\n",
       "   q4_balance  \n",
       "0      1002.0  \n",
       "1       366.0  \n",
       "2       242.0  \n",
       "3       419.0  \n",
       "4       365.0  "
      ]
     },
     "execution_count": 79,
     "metadata": {},
     "output_type": "execute_result"
    }
   ],
   "source": [
    "dataframe.head()"
   ]
  },
  {
   "cell_type": "markdown",
   "id": "e3047bdf-8a7d-4898-a244-de50e8d3a485",
   "metadata": {
    "tags": []
   },
   "source": [
    "##### 6.1 Average_balance removal (ar)"
   ]
  },
  {
   "cell_type": "code",
   "execution_count": 80,
   "id": "edf3464a-6fa9-4348-bf72-5972dafe804c",
   "metadata": {},
   "outputs": [
    {
     "name": "stdout",
     "output_type": "stream",
     "text": [
      "(17976, 17)\n"
     ]
    },
    {
     "data": {
      "text/html": [
       "<div>\n",
       "<style scoped>\n",
       "    .dataframe tbody tr th:only-of-type {\n",
       "        vertical-align: middle;\n",
       "    }\n",
       "\n",
       "    .dataframe tbody tr th {\n",
       "        vertical-align: top;\n",
       "    }\n",
       "\n",
       "    .dataframe thead th {\n",
       "        text-align: right;\n",
       "    }\n",
       "</style>\n",
       "<table border=\"1\" class=\"dataframe\">\n",
       "  <thead>\n",
       "    <tr style=\"text-align: right;\">\n",
       "      <th></th>\n",
       "      <th>credit_rating</th>\n",
       "      <th>income_level</th>\n",
       "      <th>offer_accepted</th>\n",
       "      <th>mailer_type</th>\n",
       "      <th>overdraft_protection</th>\n",
       "      <th>own_your_home</th>\n",
       "      <th>reward_cash_back</th>\n",
       "      <th>reward_points</th>\n",
       "      <th>customer_number</th>\n",
       "      <th>#_bank_accounts_open</th>\n",
       "      <th>#_credit_cards_held</th>\n",
       "      <th>#_homes_owned</th>\n",
       "      <th>household_size</th>\n",
       "      <th>q1_balance</th>\n",
       "      <th>q2_balance</th>\n",
       "      <th>q3_balance</th>\n",
       "      <th>q4_balance</th>\n",
       "    </tr>\n",
       "  </thead>\n",
       "  <tbody>\n",
       "    <tr>\n",
       "      <th>0</th>\n",
       "      <td>2</td>\n",
       "      <td>2</td>\n",
       "      <td>0.0</td>\n",
       "      <td>0.0</td>\n",
       "      <td>0.0</td>\n",
       "      <td>0.0</td>\n",
       "      <td>0</td>\n",
       "      <td>0</td>\n",
       "      <td>1</td>\n",
       "      <td>1</td>\n",
       "      <td>2</td>\n",
       "      <td>1</td>\n",
       "      <td>4</td>\n",
       "      <td>1669.0</td>\n",
       "      <td>877.0</td>\n",
       "      <td>1095.0</td>\n",
       "      <td>1002.0</td>\n",
       "    </tr>\n",
       "    <tr>\n",
       "      <th>1</th>\n",
       "      <td>1</td>\n",
       "      <td>1</td>\n",
       "      <td>0.0</td>\n",
       "      <td>0.0</td>\n",
       "      <td>0.0</td>\n",
       "      <td>1.0</td>\n",
       "      <td>0</td>\n",
       "      <td>0</td>\n",
       "      <td>2</td>\n",
       "      <td>1</td>\n",
       "      <td>2</td>\n",
       "      <td>2</td>\n",
       "      <td>5</td>\n",
       "      <td>39.0</td>\n",
       "      <td>106.0</td>\n",
       "      <td>78.0</td>\n",
       "      <td>366.0</td>\n",
       "    </tr>\n",
       "  </tbody>\n",
       "</table>\n",
       "</div>"
      ],
      "text/plain": [
       "   credit_rating  income_level  offer_accepted  mailer_type  \\\n",
       "0              2             2             0.0          0.0   \n",
       "1              1             1             0.0          0.0   \n",
       "\n",
       "   overdraft_protection  own_your_home  reward_cash_back  reward_points  \\\n",
       "0                   0.0            0.0                 0              0   \n",
       "1                   0.0            1.0                 0              0   \n",
       "\n",
       "   customer_number  #_bank_accounts_open  #_credit_cards_held  #_homes_owned  \\\n",
       "0                1                     1                    2              1   \n",
       "1                2                     1                    2              2   \n",
       "\n",
       "   household_size  q1_balance  q2_balance  q3_balance  q4_balance  \n",
       "0               4      1669.0       877.0      1095.0      1002.0  \n",
       "1               5        39.0       106.0        78.0       366.0  "
      ]
     },
     "execution_count": 80,
     "metadata": {},
     "output_type": "execute_result"
    }
   ],
   "source": [
    "ar_df = dataframe.drop(['average_balance'], axis=1)\n",
    "print(ar_df.shape)\n",
    "ar_df.head(2)"
   ]
  },
  {
   "cell_type": "code",
   "execution_count": 81,
   "id": "a37d4e0a-a7e5-4395-8762-8f7644e74482",
   "metadata": {},
   "outputs": [
    {
     "data": {
      "text/plain": [
       "(17965, 17)"
      ]
     },
     "execution_count": 81,
     "metadata": {},
     "output_type": "execute_result"
    }
   ],
   "source": [
    "ar_df = ar_df[(ar_df['q1_balance']>lower_limit) & (ar_df['q1_balance']<upper_limit)]\n",
    "ar_df = ar_df[(ar_df['q2_balance']>lower_limit) & (ar_df['q2_balance']<upper_limit)]\n",
    "ar_df = ar_df[(ar_df['q3_balance']>lower_limit) & (ar_df['q3_balance']<upper_limit)]\n",
    "ar_df = ar_df[(ar_df['q4_balance']>lower_limit) & (ar_df['q4_balance']<upper_limit)]\n",
    "ar_df.shape"
   ]
  },
  {
   "cell_type": "code",
   "execution_count": 82,
   "id": "23e1fbbb-bebd-40a2-9750-cc4c447c0481",
   "metadata": {},
   "outputs": [],
   "source": [
    "y_ar = ar_df.offer_accepted\n",
    "X_ar = ar_df.drop(['offer_accepted'], axis=1)"
   ]
  },
  {
   "cell_type": "code",
   "execution_count": 83,
   "id": "d736d482-076a-4281-bd9c-eddcd2cc3e51",
   "metadata": {},
   "outputs": [],
   "source": [
    "X_train_ar, X_test_ar, y_train_ar, y_test_ar = train_test_split(X_ar, y_ar, test_size=0.25, random_state=42)"
   ]
  },
  {
   "cell_type": "code",
   "execution_count": 84,
   "id": "e57f89c8-b2be-4866-a25c-f0243fa6e113",
   "metadata": {},
   "outputs": [
    {
     "data": {
      "text/html": [
       "<style>#sk-container-id-3 {color: black;background-color: white;}#sk-container-id-3 pre{padding: 0;}#sk-container-id-3 div.sk-toggleable {background-color: white;}#sk-container-id-3 label.sk-toggleable__label {cursor: pointer;display: block;width: 100%;margin-bottom: 0;padding: 0.3em;box-sizing: border-box;text-align: center;}#sk-container-id-3 label.sk-toggleable__label-arrow:before {content: \"▸\";float: left;margin-right: 0.25em;color: #696969;}#sk-container-id-3 label.sk-toggleable__label-arrow:hover:before {color: black;}#sk-container-id-3 div.sk-estimator:hover label.sk-toggleable__label-arrow:before {color: black;}#sk-container-id-3 div.sk-toggleable__content {max-height: 0;max-width: 0;overflow: hidden;text-align: left;background-color: #f0f8ff;}#sk-container-id-3 div.sk-toggleable__content pre {margin: 0.2em;color: black;border-radius: 0.25em;background-color: #f0f8ff;}#sk-container-id-3 input.sk-toggleable__control:checked~div.sk-toggleable__content {max-height: 200px;max-width: 100%;overflow: auto;}#sk-container-id-3 input.sk-toggleable__control:checked~label.sk-toggleable__label-arrow:before {content: \"▾\";}#sk-container-id-3 div.sk-estimator input.sk-toggleable__control:checked~label.sk-toggleable__label {background-color: #d4ebff;}#sk-container-id-3 div.sk-label input.sk-toggleable__control:checked~label.sk-toggleable__label {background-color: #d4ebff;}#sk-container-id-3 input.sk-hidden--visually {border: 0;clip: rect(1px 1px 1px 1px);clip: rect(1px, 1px, 1px, 1px);height: 1px;margin: -1px;overflow: hidden;padding: 0;position: absolute;width: 1px;}#sk-container-id-3 div.sk-estimator {font-family: monospace;background-color: #f0f8ff;border: 1px dotted black;border-radius: 0.25em;box-sizing: border-box;margin-bottom: 0.5em;}#sk-container-id-3 div.sk-estimator:hover {background-color: #d4ebff;}#sk-container-id-3 div.sk-parallel-item::after {content: \"\";width: 100%;border-bottom: 1px solid gray;flex-grow: 1;}#sk-container-id-3 div.sk-label:hover label.sk-toggleable__label {background-color: #d4ebff;}#sk-container-id-3 div.sk-serial::before {content: \"\";position: absolute;border-left: 1px solid gray;box-sizing: border-box;top: 0;bottom: 0;left: 50%;z-index: 0;}#sk-container-id-3 div.sk-serial {display: flex;flex-direction: column;align-items: center;background-color: white;padding-right: 0.2em;padding-left: 0.2em;position: relative;}#sk-container-id-3 div.sk-item {position: relative;z-index: 1;}#sk-container-id-3 div.sk-parallel {display: flex;align-items: stretch;justify-content: center;background-color: white;position: relative;}#sk-container-id-3 div.sk-item::before, #sk-container-id-3 div.sk-parallel-item::before {content: \"\";position: absolute;border-left: 1px solid gray;box-sizing: border-box;top: 0;bottom: 0;left: 50%;z-index: -1;}#sk-container-id-3 div.sk-parallel-item {display: flex;flex-direction: column;z-index: 1;position: relative;background-color: white;}#sk-container-id-3 div.sk-parallel-item:first-child::after {align-self: flex-end;width: 50%;}#sk-container-id-3 div.sk-parallel-item:last-child::after {align-self: flex-start;width: 50%;}#sk-container-id-3 div.sk-parallel-item:only-child::after {width: 0;}#sk-container-id-3 div.sk-dashed-wrapped {border: 1px dashed gray;margin: 0 0.4em 0.5em 0.4em;box-sizing: border-box;padding-bottom: 0.4em;background-color: white;}#sk-container-id-3 div.sk-label label {font-family: monospace;font-weight: bold;display: inline-block;line-height: 1.2em;}#sk-container-id-3 div.sk-label-container {text-align: center;}#sk-container-id-3 div.sk-container {/* jupyter's `normalize.less` sets `[hidden] { display: none; }` but bootstrap.min.css set `[hidden] { display: none !important; }` so we also need the `!important` here to be able to override the default hidden behavior on the sphinx rendered scikit-learn.org. See: https://github.com/scikit-learn/scikit-learn/issues/21755 */display: inline-block !important;position: relative;}#sk-container-id-3 div.sk-text-repr-fallback {display: none;}</style><div id=\"sk-container-id-3\" class=\"sk-top-container\"><div class=\"sk-text-repr-fallback\"><pre>LogisticRegression(max_iter=1000, random_state=0)</pre><b>In a Jupyter environment, please rerun this cell to show the HTML representation or trust the notebook. <br />On GitHub, the HTML representation is unable to render, please try loading this page with nbviewer.org.</b></div><div class=\"sk-container\" hidden><div class=\"sk-item\"><div class=\"sk-estimator sk-toggleable\"><input class=\"sk-toggleable__control sk-hidden--visually\" id=\"sk-estimator-id-3\" type=\"checkbox\" checked><label for=\"sk-estimator-id-3\" class=\"sk-toggleable__label sk-toggleable__label-arrow\">LogisticRegression</label><div class=\"sk-toggleable__content\"><pre>LogisticRegression(max_iter=1000, random_state=0)</pre></div></div></div></div></div>"
      ],
      "text/plain": [
       "LogisticRegression(max_iter=1000, random_state=0)"
      ]
     },
     "execution_count": 84,
     "metadata": {},
     "output_type": "execute_result"
    }
   ],
   "source": [
    "lr = LogisticRegression(random_state=0, solver='lbfgs', max_iter=1000)\n",
    "lr.fit(X_train_ar, y_train_ar)"
   ]
  },
  {
   "cell_type": "code",
   "execution_count": 85,
   "id": "ffab1ffe-d51f-4a1d-bc85-6cf136e6b233",
   "metadata": {},
   "outputs": [],
   "source": [
    "y_train_pred_ar = lr.predict(X_train_ar)\n",
    "y_pred_test_ar = lr.predict(X_test_ar)"
   ]
  },
  {
   "cell_type": "code",
   "execution_count": 86,
   "id": "d8c1bd11-d0ff-44f6-9f17-d20937b355b4",
   "metadata": {},
   "outputs": [],
   "source": [
    "ros = RandomOverSampler(random_state=42)\n",
    "X_train_over_ar, y_train_over_ar = ros.fit_resample(X_train_ar,y_train_ar)"
   ]
  },
  {
   "cell_type": "code",
   "execution_count": 87,
   "id": "81215e37-e1b3-4894-bd6e-7bbf887c22e2",
   "metadata": {},
   "outputs": [
    {
     "name": "stdout",
     "output_type": "stream",
     "text": [
      "The accuracy in the TEST set is: 0.66\n",
      "The precision in the TEST set is: 0.11\n",
      "The recall in the TEST set is: 0.70\n",
      "The F1 in the TEST set is: 0.20\n",
      "The Kappa in the TEST set is: 0.10\n"
     ]
    }
   ],
   "source": [
    "lr = LogisticRegression(max_iter=2000)\n",
    "lr.fit(X_train_over_ar, y_train_over_ar)\n",
    "y_pred_test_ar = lr.predict(X_test_ar)\n",
    "\n",
    "print(\"The accuracy in the TEST set is: {:.2f}\".format(accuracy_score(y_test_ar,y_pred_test_ar)))\n",
    "print(\"The precision in the TEST set is: {:.2f}\".format(precision_score(y_test_ar,y_pred_test_ar)))\n",
    "print(\"The recall in the TEST set is: {:.2f}\".format(recall_score(y_test_ar,y_pred_test_ar)))\n",
    "print(\"The F1 in the TEST set is: {:.2f}\".format(f1_score(y_test_ar,y_pred_test_ar)))\n",
    "print(\"The Kappa in the TEST set is: {:.2f}\".format(cohen_kappa_score(y_test_ar,y_pred_test_ar)))"
   ]
  },
  {
   "cell_type": "code",
   "execution_count": 88,
   "id": "6e036c96-181c-4b2d-9755-c630593cbbcc",
   "metadata": {},
   "outputs": [],
   "source": [
    "# Decreases the values of accuracy, precision and recall."
   ]
  },
  {
   "cell_type": "code",
   "execution_count": 89,
   "id": "709b2c7a-527d-4600-a027-53dfe3b329c1",
   "metadata": {},
   "outputs": [
    {
     "data": {
      "image/png": "[encoded data removed]",
      "text/plain": [
       "<Figure size 640x480 with 2 Axes>"
      ]
     },
     "metadata": {},
     "output_type": "display_data"
    }
   ],
   "source": [
    "cm_test = confusion_matrix(y_test_ar,y_pred_test_ar)\n",
    "disp = ConfusionMatrixDisplay(confusion_matrix=cm_test, display_labels=lr.classes_)\n",
    "disp.plot()\n",
    "plt.show()"
   ]
  },
  {
   "cell_type": "markdown",
   "id": "bb538181-0704-4a4e-8d0b-821618b02686",
   "metadata": {
    "tags": []
   },
   "source": [
    "##### 6.2 Quarters columns removal (qr)"
   ]
  },
  {
   "cell_type": "code",
   "execution_count": 90,
   "id": "eb777eb3-9c50-4eb4-b087-9e88bb0536aa",
   "metadata": {},
   "outputs": [
    {
     "data": {
      "text/html": [
       "<div>\n",
       "<style scoped>\n",
       "    .dataframe tbody tr th:only-of-type {\n",
       "        vertical-align: middle;\n",
       "    }\n",
       "\n",
       "    .dataframe tbody tr th {\n",
       "        vertical-align: top;\n",
       "    }\n",
       "\n",
       "    .dataframe thead th {\n",
       "        text-align: right;\n",
       "    }\n",
       "</style>\n",
       "<table border=\"1\" class=\"dataframe\">\n",
       "  <thead>\n",
       "    <tr style=\"text-align: right;\">\n",
       "      <th></th>\n",
       "      <th>credit_rating</th>\n",
       "      <th>income_level</th>\n",
       "      <th>offer_accepted</th>\n",
       "      <th>mailer_type</th>\n",
       "      <th>overdraft_protection</th>\n",
       "      <th>own_your_home</th>\n",
       "      <th>reward_cash_back</th>\n",
       "      <th>reward_points</th>\n",
       "      <th>customer_number</th>\n",
       "      <th>#_bank_accounts_open</th>\n",
       "      <th>#_credit_cards_held</th>\n",
       "      <th>#_homes_owned</th>\n",
       "      <th>household_size</th>\n",
       "      <th>average_balance</th>\n",
       "    </tr>\n",
       "  </thead>\n",
       "  <tbody>\n",
       "    <tr>\n",
       "      <th>0</th>\n",
       "      <td>2</td>\n",
       "      <td>2</td>\n",
       "      <td>0.0</td>\n",
       "      <td>0.0</td>\n",
       "      <td>0.0</td>\n",
       "      <td>0.0</td>\n",
       "      <td>0</td>\n",
       "      <td>0</td>\n",
       "      <td>1</td>\n",
       "      <td>1</td>\n",
       "      <td>2</td>\n",
       "      <td>1</td>\n",
       "      <td>4</td>\n",
       "      <td>1160.75</td>\n",
       "    </tr>\n",
       "    <tr>\n",
       "      <th>1</th>\n",
       "      <td>1</td>\n",
       "      <td>1</td>\n",
       "      <td>0.0</td>\n",
       "      <td>0.0</td>\n",
       "      <td>0.0</td>\n",
       "      <td>1.0</td>\n",
       "      <td>0</td>\n",
       "      <td>0</td>\n",
       "      <td>2</td>\n",
       "      <td>1</td>\n",
       "      <td>2</td>\n",
       "      <td>2</td>\n",
       "      <td>5</td>\n",
       "      <td>147.25</td>\n",
       "    </tr>\n",
       "  </tbody>\n",
       "</table>\n",
       "</div>"
      ],
      "text/plain": [
       "   credit_rating  income_level  offer_accepted  mailer_type  \\\n",
       "0              2             2             0.0          0.0   \n",
       "1              1             1             0.0          0.0   \n",
       "\n",
       "   overdraft_protection  own_your_home  reward_cash_back  reward_points  \\\n",
       "0                   0.0            0.0                 0              0   \n",
       "1                   0.0            1.0                 0              0   \n",
       "\n",
       "   customer_number  #_bank_accounts_open  #_credit_cards_held  #_homes_owned  \\\n",
       "0                1                     1                    2              1   \n",
       "1                2                     1                    2              2   \n",
       "\n",
       "   household_size  average_balance  \n",
       "0               4          1160.75  \n",
       "1               5           147.25  "
      ]
     },
     "execution_count": 90,
     "metadata": {},
     "output_type": "execute_result"
    }
   ],
   "source": [
    "qr_df = dataframe.drop(['q1_balance', 'q2_balance', 'q3_balance', 'q4_balance'], axis=1)\n",
    "qr_df.head(2)"
   ]
  },
  {
   "cell_type": "code",
   "execution_count": 91,
   "id": "5c23ae00-60be-4e19-925d-981e555db147",
   "metadata": {},
   "outputs": [],
   "source": [
    "y_qr = ar_df.offer_accepted\n",
    "X_qr = ar_df.drop(['offer_accepted'], axis=1)"
   ]
  },
  {
   "cell_type": "code",
   "execution_count": 92,
   "id": "ca21413e-0b7b-48dc-80ea-50fc17df4dde",
   "metadata": {},
   "outputs": [],
   "source": [
    "X_train_qr, X_test_qr, y_train_qr, y_test_qr = train_test_split(X_qr, y_qr, test_size=0.25, random_state=42)"
   ]
  },
  {
   "cell_type": "code",
   "execution_count": 93,
   "id": "fe459866-b72a-4463-b338-799fbfd48c11",
   "metadata": {},
   "outputs": [
    {
     "data": {
      "text/html": [
       "<style>#sk-container-id-4 {color: black;background-color: white;}#sk-container-id-4 pre{padding: 0;}#sk-container-id-4 div.sk-toggleable {background-color: white;}#sk-container-id-4 label.sk-toggleable__label {cursor: pointer;display: block;width: 100%;margin-bottom: 0;padding: 0.3em;box-sizing: border-box;text-align: center;}#sk-container-id-4 label.sk-toggleable__label-arrow:before {content: \"▸\";float: left;margin-right: 0.25em;color: #696969;}#sk-container-id-4 label.sk-toggleable__label-arrow:hover:before {color: black;}#sk-container-id-4 div.sk-estimator:hover label.sk-toggleable__label-arrow:before {color: black;}#sk-container-id-4 div.sk-toggleable__content {max-height: 0;max-width: 0;overflow: hidden;text-align: left;background-color: #f0f8ff;}#sk-container-id-4 div.sk-toggleable__content pre {margin: 0.2em;color: black;border-radius: 0.25em;background-color: #f0f8ff;}#sk-container-id-4 input.sk-toggleable__control:checked~div.sk-toggleable__content {max-height: 200px;max-width: 100%;overflow: auto;}#sk-container-id-4 input.sk-toggleable__control:checked~label.sk-toggleable__label-arrow:before {content: \"▾\";}#sk-container-id-4 div.sk-estimator input.sk-toggleable__control:checked~label.sk-toggleable__label {background-color: #d4ebff;}#sk-container-id-4 div.sk-label input.sk-toggleable__control:checked~label.sk-toggleable__label {background-color: #d4ebff;}#sk-container-id-4 input.sk-hidden--visually {border: 0;clip: rect(1px 1px 1px 1px);clip: rect(1px, 1px, 1px, 1px);height: 1px;margin: -1px;overflow: hidden;padding: 0;position: absolute;width: 1px;}#sk-container-id-4 div.sk-estimator {font-family: monospace;background-color: #f0f8ff;border: 1px dotted black;border-radius: 0.25em;box-sizing: border-box;margin-bottom: 0.5em;}#sk-container-id-4 div.sk-estimator:hover {background-color: #d4ebff;}#sk-container-id-4 div.sk-parallel-item::after {content: \"\";width: 100%;border-bottom: 1px solid gray;flex-grow: 1;}#sk-container-id-4 div.sk-label:hover label.sk-toggleable__label {background-color: #d4ebff;}#sk-container-id-4 div.sk-serial::before {content: \"\";position: absolute;border-left: 1px solid gray;box-sizing: border-box;top: 0;bottom: 0;left: 50%;z-index: 0;}#sk-container-id-4 div.sk-serial {display: flex;flex-direction: column;align-items: center;background-color: white;padding-right: 0.2em;padding-left: 0.2em;position: relative;}#sk-container-id-4 div.sk-item {position: relative;z-index: 1;}#sk-container-id-4 div.sk-parallel {display: flex;align-items: stretch;justify-content: center;background-color: white;position: relative;}#sk-container-id-4 div.sk-item::before, #sk-container-id-4 div.sk-parallel-item::before {content: \"\";position: absolute;border-left: 1px solid gray;box-sizing: border-box;top: 0;bottom: 0;left: 50%;z-index: -1;}#sk-container-id-4 div.sk-parallel-item {display: flex;flex-direction: column;z-index: 1;position: relative;background-color: white;}#sk-container-id-4 div.sk-parallel-item:first-child::after {align-self: flex-end;width: 50%;}#sk-container-id-4 div.sk-parallel-item:last-child::after {align-self: flex-start;width: 50%;}#sk-container-id-4 div.sk-parallel-item:only-child::after {width: 0;}#sk-container-id-4 div.sk-dashed-wrapped {border: 1px dashed gray;margin: 0 0.4em 0.5em 0.4em;box-sizing: border-box;padding-bottom: 0.4em;background-color: white;}#sk-container-id-4 div.sk-label label {font-family: monospace;font-weight: bold;display: inline-block;line-height: 1.2em;}#sk-container-id-4 div.sk-label-container {text-align: center;}#sk-container-id-4 div.sk-container {/* jupyter's `normalize.less` sets `[hidden] { display: none; }` but bootstrap.min.css set `[hidden] { display: none !important; }` so we also need the `!important` here to be able to override the default hidden behavior on the sphinx rendered scikit-learn.org. See: https://github.com/scikit-learn/scikit-learn/issues/21755 */display: inline-block !important;position: relative;}#sk-container-id-4 div.sk-text-repr-fallback {display: none;}</style><div id=\"sk-container-id-4\" class=\"sk-top-container\"><div class=\"sk-text-repr-fallback\"><pre>LogisticRegression(max_iter=1000, random_state=0)</pre><b>In a Jupyter environment, please rerun this cell to show the HTML representation or trust the notebook. <br />On GitHub, the HTML representation is unable to render, please try loading this page with nbviewer.org.</b></div><div class=\"sk-container\" hidden><div class=\"sk-item\"><div class=\"sk-estimator sk-toggleable\"><input class=\"sk-toggleable__control sk-hidden--visually\" id=\"sk-estimator-id-4\" type=\"checkbox\" checked><label for=\"sk-estimator-id-4\" class=\"sk-toggleable__label sk-toggleable__label-arrow\">LogisticRegression</label><div class=\"sk-toggleable__content\"><pre>LogisticRegression(max_iter=1000, random_state=0)</pre></div></div></div></div></div>"
      ],
      "text/plain": [
       "LogisticRegression(max_iter=1000, random_state=0)"
      ]
     },
     "execution_count": 93,
     "metadata": {},
     "output_type": "execute_result"
    }
   ],
   "source": [
    "lr = LogisticRegression(random_state=0, solver='lbfgs', max_iter=1000)\n",
    "lr.fit(X_train_qr, y_train_qr)"
   ]
  },
  {
   "cell_type": "code",
   "execution_count": 94,
   "id": "256cb03d-cc9d-490e-9141-561f1629a3b6",
   "metadata": {},
   "outputs": [],
   "source": [
    "y_train_pred_qr = lr.predict(X_train_qr)\n",
    "y_pred_test_qr = lr.predict(X_test_qr)"
   ]
  },
  {
   "cell_type": "code",
   "execution_count": 95,
   "id": "2e9fcb1f-df46-410f-9fde-e5901399a8fd",
   "metadata": {},
   "outputs": [],
   "source": [
    "ros = RandomOverSampler(random_state=42)\n",
    "X_train_over_qr, y_train_over_qr = ros.fit_resample(X_train_qr,y_train_qr)"
   ]
  },
  {
   "cell_type": "code",
   "execution_count": 96,
   "id": "01c2f52f-6133-4b89-8146-561b173fbbe7",
   "metadata": {},
   "outputs": [
    {
     "name": "stdout",
     "output_type": "stream",
     "text": [
      "The accuracy in the TEST set is: 0.66\n",
      "The precision in the TEST set is: 0.11\n",
      "The recall in the TEST set is: 0.70\n",
      "The F1 in the TEST set is: 0.20\n",
      "The Kappa in the TEST set is: 0.10\n"
     ]
    }
   ],
   "source": [
    "lr = LogisticRegression(max_iter=2000)\n",
    "lr.fit(X_train_over_qr, y_train_over_qr)\n",
    "y_pred_test_qr = lr.predict(X_test_qr)\n",
    "\n",
    "print(\"The accuracy in the TEST set is: {:.2f}\".format(accuracy_score(y_test_qr,y_pred_test_qr)))\n",
    "print(\"The precision in the TEST set is: {:.2f}\".format(precision_score(y_test_qr,y_pred_test_qr)))\n",
    "print(\"The recall in the TEST set is: {:.2f}\".format(recall_score(y_test_qr,y_pred_test_qr)))\n",
    "print(\"The F1 in the TEST set is: {:.2f}\".format(f1_score(y_test_qr,y_pred_test_qr)))\n",
    "print(\"The Kappa in the TEST set is: {:.2f}\".format(cohen_kappa_score(y_test_qr,y_pred_test_qr)))"
   ]
  },
  {
   "cell_type": "code",
   "execution_count": 97,
   "id": "14c483db-c37e-4e8f-8543-6e4dff440e58",
   "metadata": {},
   "outputs": [],
   "source": [
    "# Decreases the values of accuracy, precision and recall.\n",
    "# Therefore, the best technique for treating imbalance data with this data set, is oversampling."
   ]
  },
  {
   "cell_type": "code",
   "execution_count": 98,
   "id": "1ff09926-e9b6-4adf-800f-5aba00881887",
   "metadata": {},
   "outputs": [
    {
     "data": {
      "image/png": "[encoded data removed]",
      "text/plain": [
       "<Figure size 640x480 with 2 Axes>"
      ]
     },
     "metadata": {},
     "output_type": "display_data"
    }
   ],
   "source": [
    "cm_test = confusion_matrix(y_test_qr,y_pred_test_qr)\n",
    "disp = ConfusionMatrixDisplay(confusion_matrix=cm_test, display_labels=lr.classes_)\n",
    "disp.plot()\n",
    "plt.show()"
   ]
  }
 ],
 "metadata": {
  "kernelspec": {
   "display_name": "Python 3 (ipykernel)",
   "language": "python",
   "name": "python3"
  },
  "language_info": {
   "codemirror_mode": {
    "name": "ipython",
    "version": 3
   },
   "file_extension": ".py",
   "mimetype": "text/x-python",
   "name": "python",
   "nbconvert_exporter": "python",
   "pygments_lexer": "ipython3",
   "version": "3.10.9"
  }
 },
 "nbformat": 4,
 "nbformat_minor": 5
}
